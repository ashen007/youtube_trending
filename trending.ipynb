{
 "cells": [
  {
   "cell_type": "code",
   "execution_count": 2,
   "metadata": {
    "collapsed": true
   },
   "outputs": [],
   "source": [
    "# import libraries\n",
    "import os\n",
    "import numpy as np\n",
    "import pandas as pd\n",
    "from sklearn.model_selection import train_test_split"
   ]
  },
  {
   "cell_type": "code",
   "execution_count": 12,
   "outputs": [],
   "source": [
    "# import datasets\n",
    "US = pd.read_csv('D:\\\\Data Sets\\\\YouTube\\\\data\\\\USvideos.csv')\n",
    "CA = pd.read_csv('D:\\\\Data Sets\\\\YouTube\\\\data\\\\CAvideos.csv')\n",
    "FR = pd.read_csv('D:\\\\Data Sets\\\\YouTube\\\\data\\\\FRvideos.csv')\n",
    "GB = pd.read_csv('D:\\\\Data Sets\\\\YouTube\\\\data\\\\GBvideos.csv')\n",
    "KR = pd.read_csv('D:\\\\Data Sets\\\\YouTube\\\\data\\\\KRvideos.csv',encoding='ANSI')\n",
    "DE = pd.read_csv('D:\\\\Data Sets\\\\YouTube\\\\data\\\\DEvideos.csv')\n",
    "JP = pd.read_csv('D:\\\\Data Sets\\\\YouTube\\\\data\\\\JPvideos.csv',encoding='ANSI')\n",
    "IND = pd.read_csv('D:\\\\Data Sets\\\\YouTube\\\\data\\\\INvideos.csv')\n",
    "MX = pd.read_csv('D:\\\\Data Sets\\\\YouTube\\\\data\\\\MXvideos.csv',encoding='ANSI')\n",
    "RU = pd.read_csv('D:\\\\Data Sets\\\\YouTube\\\\data\\\\RUvideos.csv',encoding='ANSI')"
   ],
   "metadata": {
    "collapsed": false,
    "pycharm": {
     "name": "#%%\n"
    }
   }
  }
 ],
 "metadata": {
  "kernelspec": {
   "display_name": "Python 3",
   "language": "python",
   "name": "python3"
  },
  "language_info": {
   "codemirror_mode": {
    "name": "ipython",
    "version": 2
   },
   "file_extension": ".py",
   "mimetype": "text/x-python",
   "name": "python",
   "nbconvert_exporter": "python",
   "pygments_lexer": "ipython2",
   "version": "2.7.6"
  }
 },
 "nbformat": 4,
 "nbformat_minor": 0
}