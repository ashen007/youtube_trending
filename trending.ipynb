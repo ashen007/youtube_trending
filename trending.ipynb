{
 "cells": [
  {
   "cell_type": "code",
   "execution_count": 2,
   "metadata": {
    "collapsed": true
   },
   "outputs": [],
   "source": [
    "# import libraries\n",
    "import os\n",
    "import numpy as np\n",
    "import pandas as pd\n",
    "from sklearn.model_selection import train_test_split"
   ]
  },
  {
   "cell_type": "code",
   "execution_count": 12,
   "outputs": [],
   "source": [
    "# import datasets\n",
    "US = pd.read_csv('D:\\\\Data Sets\\\\YouTube\\\\data\\\\USvideos.csv')\n",
    "CA = pd.read_csv('D:\\\\Data Sets\\\\YouTube\\\\data\\\\CAvideos.csv')\n",
    "FR = pd.read_csv('D:\\\\Data Sets\\\\YouTube\\\\data\\\\FRvideos.csv')\n",
    "GB = pd.read_csv('D:\\\\Data Sets\\\\YouTube\\\\data\\\\GBvideos.csv')\n",
    "KR = pd.read_csv('D:\\\\Data Sets\\\\YouTube\\\\data\\\\KRvideos.csv',encoding='ANSI')\n",
    "DE = pd.read_csv('D:\\\\Data Sets\\\\YouTube\\\\data\\\\DEvideos.csv')\n",
    "JP = pd.read_csv('D:\\\\Data Sets\\\\YouTube\\\\data\\\\JPvideos.csv',encoding='ANSI')\n",
    "IND = pd.read_csv('D:\\\\Data Sets\\\\YouTube\\\\data\\\\INvideos.csv')\n",
    "MX = pd.read_csv('D:\\\\Data Sets\\\\YouTube\\\\data\\\\MXvideos.csv',encoding='ANSI')\n",
    "RU = pd.read_csv('D:\\\\Data Sets\\\\YouTube\\\\data\\\\RUvideos.csv',encoding='ANSI')"
   ],
   "metadata": {
    "collapsed": false,
    "pycharm": {
     "name": "#%%\n"
    }
   }
  },
  {
   "cell_type": "code",
   "execution_count": 16,
   "outputs": [
    {
     "data": {
      "text/plain": "          video_id trending_date  \\\n0      2kyS6SvSYSE      17.14.11   \n1      1ZAPwfrtAFY      17.14.11   \n2      5qpjK5DgCt4      17.14.11   \n3      puqaWrEC7tY      17.14.11   \n4      d380meD0W0M      17.14.11   \n...            ...           ...   \n40734  OMmR9THjVKM      18.14.06   \n40735  tX7p7NtNVDE      18.14.06   \n40736  KAyj5Xm1C64      18.14.06   \n40737  4PiSLIrsSiY      18.14.06   \n40738  Ehy5foVfKOE      18.14.06   \n\n                                                   title  \\\n0                     WE WANT TO TALK ABOUT OUR MARRIAGE   \n1      The Trump Presidency: Last Week Tonight with J...   \n2      Racist Superman | Rudy Mancuso, King Bach & Le...   \n3                       Nickelback Lyrics: Real or Fake?   \n4                               I Dare You: GOING BALD!?   \n...                                                  ...   \n40734  Ð£ Ð¼ÐµÐ½Ñ Ð¡Ð”Ð’Ð“! (Story booth Ð½Ð° Ñ€ÑƒÑ...   \n40735  ÐœÐ¾Ð¸ Ð”ÐµÑ‚ÑÐºÐ¸Ðµ Ð¢Ñ€Ð°Ð²Ð¼Ñ‹ 2 (Ð°Ð½Ð¸Ð¼...   \n40736  [ENG SUB] BTS PROM PARTY 2018 Intro + 2nd Gran...   \n40737  ÐžÐ‘Ð—ÐžÐ  Ð’ÐÐÐÐžÐ™ ÐšÐžÐœÐÐÐ¢Ð«ðŸ›/Ð¢Ð...   \n40738  ÐŸÐ»Ð¾Ñ…Ð¾Ð¹ ÑÐ¸Ð³Ð½Ð°Ð». Ð¡Ñ‚Ð°Ð½ÑŒ Ñ‡ÐµÐ»Ð¾...   \n\n                     channel_title category_id              publish_time  \\\n0                     CaseyNeistat          22  2017-11-13T17:13:01.000Z   \n1                  LastWeekTonight          24  2017-11-13T07:30:00.000Z   \n2                     Rudy Mancuso          23  2017-11-12T19:05:24.000Z   \n3            Good Mythical Morning          24  2017-11-13T11:00:04.000Z   \n4                         nigahiga          24  2017-11-12T18:01:41.000Z   \n...                            ...         ...                       ...   \n40734                 Pastime Time          22  2018-06-13T13:47:01.000Z   \n40735                       CaGArt          23  2018-06-12T09:38:38.000Z   \n40736                 DaisyxBTS 07          24  2018-06-13T12:51:23.000Z   \n40737  ÐšÑÑŽÑˆÐ° Ð›ÐµÐ±ÐµÐ´ÐµÐ²Ð°          22  2018-06-13T00:23:33.000Z   \n40738                   Tubus Show          29  2018-06-13T09:50:09.000Z   \n\n                                                    tags    views   likes  \\\n0                                        SHANtell martin   748374   57527   \n1      last week tonight trump presidency|\"last week ...  2418783   97185   \n2      racist superman|\"rudy\"|\"mancuso\"|\"king\"|\"bach\"...  3191434  146033   \n3      rhett and link|\"gmm\"|\"good mythical morning\"|\"...   343168   10172   \n4      ryan|\"higa\"|\"higatv\"|\"nigahiga\"|\"i dare you\"|\"...  2095731  132235   \n...                                                  ...      ...     ...   \n40734  story booth Ð½Ð° Ñ€ÑƒÑÑÐºÐ¾Ð¼|\"story booth Ð...   129488    5893   \n40735  ÐºÐ°Ð³Ð°Ñ€Ñ‚|\"ÐºÐ°Ð³Ð¸\"|\"Ñ†Ð°Ð³Ð°Ñ€Ñ‚\"|\"Ð³Ð°Ð³...    99163    4659   \n40736                                             [none]   449611   24808   \n40737  Ñ€ÑƒÐ¼ Ñ‚ÑƒÑ€ Ð²Ð°Ð½Ð½Ð¾Ð¹ ÐºÐ¾Ð¼Ð½Ð°Ñ‚Ñ‹|\"roo...    14225     793   \n40738  Ð¿Ð»Ð¾Ñ…Ð¾Ð¹ ÑÐ¸Ð³Ð½Ð°Ð»|\"Ñ‚ÑƒÐ±ÑƒÑ ÑˆÐ¾Ñƒ\"|...    52340    7708   \n\n      dislikes comment_count                                  thumbnail_link  \\\n0         2966         15954  https://i.ytimg.com/vi/2kyS6SvSYSE/default.jpg   \n1         6146         12703  https://i.ytimg.com/vi/1ZAPwfrtAFY/default.jpg   \n2         5339          8181  https://i.ytimg.com/vi/5qpjK5DgCt4/default.jpg   \n3          666          2146  https://i.ytimg.com/vi/puqaWrEC7tY/default.jpg   \n4         1989         17518  https://i.ytimg.com/vi/d380meD0W0M/default.jpg   \n...        ...           ...                                             ...   \n40734      164           990  https://i.ytimg.com/vi/OMmR9THjVKM/default.jpg   \n40735      337           692  https://i.ytimg.com/vi/tX7p7NtNVDE/default.jpg   \n40736       93           974  https://i.ytimg.com/vi/KAyj5Xm1C64/default.jpg   \n40737       39           209  https://i.ytimg.com/vi/4PiSLIrsSiY/default.jpg   \n40738      133          1819  https://i.ytimg.com/vi/Ehy5foVfKOE/default.jpg   \n\n      comments_disabled ratings_disabled video_error_or_removed  \\\n0                 False            False                  False   \n1                 False            False                  False   \n2                 False            False                  False   \n3                 False            False                  False   \n4                 False            False                  False   \n...                 ...              ...                    ...   \n40734             False            False                  False   \n40735             False            False                  False   \n40736             False            False                  False   \n40737             False            False                  False   \n40738             False            False                  False   \n\n                                             description  \n0      SHANTELL'S CHANNEL - https://www.youtube.com/s...  \n1      One year after the presidential election, John...  \n2      WATCH MY PREVIOUS VIDEO ▶ \\n\\nSUBSCRIBE ► http...  \n3      Today we find out if Link is a Nickelback amat...  \n4      I know it's been a while since we did this sho...  \n...                                                  ...  \n40734  ÐšÐ¾Ñ‚Ð¸ÐºÐ¸ Ð² Blade and Soul - https://bit.l...  \n40735  ÐœÐ¾Ð¸ Ð”ÐµÑ‚ÑÐºÐ¸Ðµ Ð¢Ñ€Ð°Ð²Ð¼Ñ‹ 2 (Ð°Ð½Ð¸Ð¼...  \n40736  ***I do NOT own anything. Just want to share t...  \n40737  ÐžÐ±Ð·Ð¾Ñ€ Ð²Ð°Ð½Ð½Ð¾Ð¹ ÐºÐ¾Ð¼Ð½Ð°Ñ‚Ñ‹, Ñ‚ÑƒÐ°...  \n40738  Ð’ 90-Ñ… Ð³Ð¾Ð´Ð°Ñ… Ð¿Ñ€Ð¾ÑˆÐ»Ð¾Ð³Ð¾ Ð²ÐµÐºÐ° ...  \n\n[375942 rows x 16 columns]",
      "text/html": "<div>\n<style scoped>\n    .dataframe tbody tr th:only-of-type {\n        vertical-align: middle;\n    }\n\n    .dataframe tbody tr th {\n        vertical-align: top;\n    }\n\n    .dataframe thead th {\n        text-align: right;\n    }\n</style>\n<table border=\"1\" class=\"dataframe\">\n  <thead>\n    <tr style=\"text-align: right;\">\n      <th></th>\n      <th>video_id</th>\n      <th>trending_date</th>\n      <th>title</th>\n      <th>channel_title</th>\n      <th>category_id</th>\n      <th>publish_time</th>\n      <th>tags</th>\n      <th>views</th>\n      <th>likes</th>\n      <th>dislikes</th>\n      <th>comment_count</th>\n      <th>thumbnail_link</th>\n      <th>comments_disabled</th>\n      <th>ratings_disabled</th>\n      <th>video_error_or_removed</th>\n      <th>description</th>\n    </tr>\n  </thead>\n  <tbody>\n    <tr>\n      <th>0</th>\n      <td>2kyS6SvSYSE</td>\n      <td>17.14.11</td>\n      <td>WE WANT TO TALK ABOUT OUR MARRIAGE</td>\n      <td>CaseyNeistat</td>\n      <td>22</td>\n      <td>2017-11-13T17:13:01.000Z</td>\n      <td>SHANtell martin</td>\n      <td>748374</td>\n      <td>57527</td>\n      <td>2966</td>\n      <td>15954</td>\n      <td>https://i.ytimg.com/vi/2kyS6SvSYSE/default.jpg</td>\n      <td>False</td>\n      <td>False</td>\n      <td>False</td>\n      <td>SHANTELL'S CHANNEL - https://www.youtube.com/s...</td>\n    </tr>\n    <tr>\n      <th>1</th>\n      <td>1ZAPwfrtAFY</td>\n      <td>17.14.11</td>\n      <td>The Trump Presidency: Last Week Tonight with J...</td>\n      <td>LastWeekTonight</td>\n      <td>24</td>\n      <td>2017-11-13T07:30:00.000Z</td>\n      <td>last week tonight trump presidency|\"last week ...</td>\n      <td>2418783</td>\n      <td>97185</td>\n      <td>6146</td>\n      <td>12703</td>\n      <td>https://i.ytimg.com/vi/1ZAPwfrtAFY/default.jpg</td>\n      <td>False</td>\n      <td>False</td>\n      <td>False</td>\n      <td>One year after the presidential election, John...</td>\n    </tr>\n    <tr>\n      <th>2</th>\n      <td>5qpjK5DgCt4</td>\n      <td>17.14.11</td>\n      <td>Racist Superman | Rudy Mancuso, King Bach &amp; Le...</td>\n      <td>Rudy Mancuso</td>\n      <td>23</td>\n      <td>2017-11-12T19:05:24.000Z</td>\n      <td>racist superman|\"rudy\"|\"mancuso\"|\"king\"|\"bach\"...</td>\n      <td>3191434</td>\n      <td>146033</td>\n      <td>5339</td>\n      <td>8181</td>\n      <td>https://i.ytimg.com/vi/5qpjK5DgCt4/default.jpg</td>\n      <td>False</td>\n      <td>False</td>\n      <td>False</td>\n      <td>WATCH MY PREVIOUS VIDEO ▶ \\n\\nSUBSCRIBE ► http...</td>\n    </tr>\n    <tr>\n      <th>3</th>\n      <td>puqaWrEC7tY</td>\n      <td>17.14.11</td>\n      <td>Nickelback Lyrics: Real or Fake?</td>\n      <td>Good Mythical Morning</td>\n      <td>24</td>\n      <td>2017-11-13T11:00:04.000Z</td>\n      <td>rhett and link|\"gmm\"|\"good mythical morning\"|\"...</td>\n      <td>343168</td>\n      <td>10172</td>\n      <td>666</td>\n      <td>2146</td>\n      <td>https://i.ytimg.com/vi/puqaWrEC7tY/default.jpg</td>\n      <td>False</td>\n      <td>False</td>\n      <td>False</td>\n      <td>Today we find out if Link is a Nickelback amat...</td>\n    </tr>\n    <tr>\n      <th>4</th>\n      <td>d380meD0W0M</td>\n      <td>17.14.11</td>\n      <td>I Dare You: GOING BALD!?</td>\n      <td>nigahiga</td>\n      <td>24</td>\n      <td>2017-11-12T18:01:41.000Z</td>\n      <td>ryan|\"higa\"|\"higatv\"|\"nigahiga\"|\"i dare you\"|\"...</td>\n      <td>2095731</td>\n      <td>132235</td>\n      <td>1989</td>\n      <td>17518</td>\n      <td>https://i.ytimg.com/vi/d380meD0W0M/default.jpg</td>\n      <td>False</td>\n      <td>False</td>\n      <td>False</td>\n      <td>I know it's been a while since we did this sho...</td>\n    </tr>\n    <tr>\n      <th>...</th>\n      <td>...</td>\n      <td>...</td>\n      <td>...</td>\n      <td>...</td>\n      <td>...</td>\n      <td>...</td>\n      <td>...</td>\n      <td>...</td>\n      <td>...</td>\n      <td>...</td>\n      <td>...</td>\n      <td>...</td>\n      <td>...</td>\n      <td>...</td>\n      <td>...</td>\n      <td>...</td>\n    </tr>\n    <tr>\n      <th>40734</th>\n      <td>OMmR9THjVKM</td>\n      <td>18.14.06</td>\n      <td>Ð£ Ð¼ÐµÐ½Ñ Ð¡Ð”Ð’Ð“! (Story booth Ð½Ð° Ñ€ÑƒÑ...</td>\n      <td>Pastime Time</td>\n      <td>22</td>\n      <td>2018-06-13T13:47:01.000Z</td>\n      <td>story booth Ð½Ð° Ñ€ÑƒÑÑÐºÐ¾Ð¼|\"story booth Ð...</td>\n      <td>129488</td>\n      <td>5893</td>\n      <td>164</td>\n      <td>990</td>\n      <td>https://i.ytimg.com/vi/OMmR9THjVKM/default.jpg</td>\n      <td>False</td>\n      <td>False</td>\n      <td>False</td>\n      <td>ÐšÐ¾Ñ‚Ð¸ÐºÐ¸ Ð² Blade and Soul - https://bit.l...</td>\n    </tr>\n    <tr>\n      <th>40735</th>\n      <td>tX7p7NtNVDE</td>\n      <td>18.14.06</td>\n      <td>ÐœÐ¾Ð¸ Ð”ÐµÑ‚ÑÐºÐ¸Ðµ Ð¢Ñ€Ð°Ð²Ð¼Ñ‹ 2 (Ð°Ð½Ð¸Ð¼...</td>\n      <td>CaGArt</td>\n      <td>23</td>\n      <td>2018-06-12T09:38:38.000Z</td>\n      <td>ÐºÐ°Ð³Ð°Ñ€Ñ‚|\"ÐºÐ°Ð³Ð¸\"|\"Ñ†Ð°Ð³Ð°Ñ€Ñ‚\"|\"Ð³Ð°Ð³...</td>\n      <td>99163</td>\n      <td>4659</td>\n      <td>337</td>\n      <td>692</td>\n      <td>https://i.ytimg.com/vi/tX7p7NtNVDE/default.jpg</td>\n      <td>False</td>\n      <td>False</td>\n      <td>False</td>\n      <td>ÐœÐ¾Ð¸ Ð”ÐµÑ‚ÑÐºÐ¸Ðµ Ð¢Ñ€Ð°Ð²Ð¼Ñ‹ 2 (Ð°Ð½Ð¸Ð¼...</td>\n    </tr>\n    <tr>\n      <th>40736</th>\n      <td>KAyj5Xm1C64</td>\n      <td>18.14.06</td>\n      <td>[ENG SUB] BTS PROM PARTY 2018 Intro + 2nd Gran...</td>\n      <td>DaisyxBTS 07</td>\n      <td>24</td>\n      <td>2018-06-13T12:51:23.000Z</td>\n      <td>[none]</td>\n      <td>449611</td>\n      <td>24808</td>\n      <td>93</td>\n      <td>974</td>\n      <td>https://i.ytimg.com/vi/KAyj5Xm1C64/default.jpg</td>\n      <td>False</td>\n      <td>False</td>\n      <td>False</td>\n      <td>***I do NOT own anything. Just want to share t...</td>\n    </tr>\n    <tr>\n      <th>40737</th>\n      <td>4PiSLIrsSiY</td>\n      <td>18.14.06</td>\n      <td>ÐžÐ‘Ð—ÐžÐ  Ð’ÐÐÐÐžÐ™ ÐšÐžÐœÐÐÐ¢Ð«ðŸ›/Ð¢Ð...</td>\n      <td>ÐšÑÑŽÑˆÐ° Ð›ÐµÐ±ÐµÐ´ÐµÐ²Ð°</td>\n      <td>22</td>\n      <td>2018-06-13T00:23:33.000Z</td>\n      <td>Ñ€ÑƒÐ¼ Ñ‚ÑƒÑ€ Ð²Ð°Ð½Ð½Ð¾Ð¹ ÐºÐ¾Ð¼Ð½Ð°Ñ‚Ñ‹|\"roo...</td>\n      <td>14225</td>\n      <td>793</td>\n      <td>39</td>\n      <td>209</td>\n      <td>https://i.ytimg.com/vi/4PiSLIrsSiY/default.jpg</td>\n      <td>False</td>\n      <td>False</td>\n      <td>False</td>\n      <td>ÐžÐ±Ð·Ð¾Ñ€ Ð²Ð°Ð½Ð½Ð¾Ð¹ ÐºÐ¾Ð¼Ð½Ð°Ñ‚Ñ‹, Ñ‚ÑƒÐ°...</td>\n    </tr>\n    <tr>\n      <th>40738</th>\n      <td>Ehy5foVfKOE</td>\n      <td>18.14.06</td>\n      <td>ÐŸÐ»Ð¾Ñ…Ð¾Ð¹ ÑÐ¸Ð³Ð½Ð°Ð». Ð¡Ñ‚Ð°Ð½ÑŒ Ñ‡ÐµÐ»Ð¾...</td>\n      <td>Tubus Show</td>\n      <td>29</td>\n      <td>2018-06-13T09:50:09.000Z</td>\n      <td>Ð¿Ð»Ð¾Ñ…Ð¾Ð¹ ÑÐ¸Ð³Ð½Ð°Ð»|\"Ñ‚ÑƒÐ±ÑƒÑ ÑˆÐ¾Ñƒ\"|...</td>\n      <td>52340</td>\n      <td>7708</td>\n      <td>133</td>\n      <td>1819</td>\n      <td>https://i.ytimg.com/vi/Ehy5foVfKOE/default.jpg</td>\n      <td>False</td>\n      <td>False</td>\n      <td>False</td>\n      <td>Ð’ 90-Ñ… Ð³Ð¾Ð´Ð°Ñ… Ð¿Ñ€Ð¾ÑˆÐ»Ð¾Ð³Ð¾ Ð²ÐµÐºÐ° ...</td>\n    </tr>\n  </tbody>\n</table>\n<p>375942 rows × 16 columns</p>\n</div>"
     },
     "execution_count": 16,
     "metadata": {},
     "output_type": "execute_result"
    }
   ],
   "source": [
    "# combine all sub parts to one\n",
    "df = pd.DataFrame(columns=US.columns)\n",
    "data = [US,CA,FR,GB,KR,DE,JP,IND,MX,RU]\n",
    "\n",
    "for sub in data:\n",
    "    df = df.append(sub)\n",
    "\n",
    "df"
   ],
   "metadata": {
    "collapsed": false,
    "pycharm": {
     "name": "#%%\n"
    }
   }
  }
 ],
 "metadata": {
  "kernelspec": {
   "display_name": "Python 3",
   "language": "python",
   "name": "python3"
  },
  "language_info": {
   "codemirror_mode": {
    "name": "ipython",
    "version": 2
   },
   "file_extension": ".py",
   "mimetype": "text/x-python",
   "name": "python",
   "nbconvert_exporter": "python",
   "pygments_lexer": "ipython2",
   "version": "2.7.6"
  }
 },
 "nbformat": 4,
 "nbformat_minor": 0
}