{
 "cells": [
  {
   "cell_type": "code",
   "execution_count": 55,
   "metadata": {
    "collapsed": true
   },
   "outputs": [],
   "source": [
    "# import libraries\n",
    "import missingno\n",
    "import numpy as np\n",
    "import pandas as pd\n",
    "from sklearn.model_selection import train_test_split\n",
    "from sklearn.impute import SimpleImputer\n",
    "from matplotlib import pyplot as plt"
   ]
  },
  {
   "cell_type": "code",
   "execution_count": 2,
   "outputs": [],
   "source": [
    "# import datasets\n",
    "US = pd.read_csv('D:\\\\Data Sets\\\\YouTube\\\\data\\\\USvideos.csv')\n",
    "CA = pd.read_csv('D:\\\\Data Sets\\\\YouTube\\\\data\\\\CAvideos.csv')\n",
    "FR = pd.read_csv('D:\\\\Data Sets\\\\YouTube\\\\data\\\\FRvideos.csv')\n",
    "GB = pd.read_csv('D:\\\\Data Sets\\\\YouTube\\\\data\\\\GBvideos.csv')\n",
    "KR = pd.read_csv('D:\\\\Data Sets\\\\YouTube\\\\data\\\\KRvideos.csv',encoding='ANSI')\n",
    "DE = pd.read_csv('D:\\\\Data Sets\\\\YouTube\\\\data\\\\DEvideos.csv')\n",
    "JP = pd.read_csv('D:\\\\Data Sets\\\\YouTube\\\\data\\\\JPvideos.csv',encoding='ANSI')\n",
    "IND = pd.read_csv('D:\\\\Data Sets\\\\YouTube\\\\data\\\\INvideos.csv')\n",
    "MX = pd.read_csv('D:\\\\Data Sets\\\\YouTube\\\\data\\\\MXvideos.csv',encoding='ANSI')\n",
    "RU = pd.read_csv('D:\\\\Data Sets\\\\YouTube\\\\data\\\\RUvideos.csv',encoding='ANSI')"
   ],
   "metadata": {
    "collapsed": false,
    "pycharm": {
     "name": "#%%\n"
    }
   }
  },
  {
   "cell_type": "code",
   "execution_count": 3,
   "outputs": [
    {
     "data": {
      "text/plain": "          video_id trending_date  \\\n0      2kyS6SvSYSE      17.14.11   \n1      1ZAPwfrtAFY      17.14.11   \n2      5qpjK5DgCt4      17.14.11   \n3      puqaWrEC7tY      17.14.11   \n4      d380meD0W0M      17.14.11   \n...            ...           ...   \n40734  OMmR9THjVKM      18.14.06   \n40735  tX7p7NtNVDE      18.14.06   \n40736  KAyj5Xm1C64      18.14.06   \n40737  4PiSLIrsSiY      18.14.06   \n40738  Ehy5foVfKOE      18.14.06   \n\n                                                   title  \\\n0                     WE WANT TO TALK ABOUT OUR MARRIAGE   \n1      The Trump Presidency: Last Week Tonight with J...   \n2      Racist Superman | Rudy Mancuso, King Bach & Le...   \n3                       Nickelback Lyrics: Real or Fake?   \n4                               I Dare You: GOING BALD!?   \n...                                                  ...   \n40734  Ð£ Ð¼ÐµÐ½Ñ Ð¡Ð”Ð’Ð“! (Story booth Ð½Ð° Ñ€ÑƒÑ...   \n40735  ÐœÐ¾Ð¸ Ð”ÐµÑ‚ÑÐºÐ¸Ðµ Ð¢Ñ€Ð°Ð²Ð¼Ñ‹ 2 (Ð°Ð½Ð¸Ð¼...   \n40736  [ENG SUB] BTS PROM PARTY 2018 Intro + 2nd Gran...   \n40737  ÐžÐ‘Ð—ÐžÐ  Ð’ÐÐÐÐžÐ™ ÐšÐžÐœÐÐÐ¢Ð«ðŸ›/Ð¢Ð...   \n40738  ÐŸÐ»Ð¾Ñ…Ð¾Ð¹ ÑÐ¸Ð³Ð½Ð°Ð». Ð¡Ñ‚Ð°Ð½ÑŒ Ñ‡ÐµÐ»Ð¾...   \n\n                     channel_title category_id              publish_time  \\\n0                     CaseyNeistat          22  2017-11-13T17:13:01.000Z   \n1                  LastWeekTonight          24  2017-11-13T07:30:00.000Z   \n2                     Rudy Mancuso          23  2017-11-12T19:05:24.000Z   \n3            Good Mythical Morning          24  2017-11-13T11:00:04.000Z   \n4                         nigahiga          24  2017-11-12T18:01:41.000Z   \n...                            ...         ...                       ...   \n40734                 Pastime Time          22  2018-06-13T13:47:01.000Z   \n40735                       CaGArt          23  2018-06-12T09:38:38.000Z   \n40736                 DaisyxBTS 07          24  2018-06-13T12:51:23.000Z   \n40737  ÐšÑÑŽÑˆÐ° Ð›ÐµÐ±ÐµÐ´ÐµÐ²Ð°          22  2018-06-13T00:23:33.000Z   \n40738                   Tubus Show          29  2018-06-13T09:50:09.000Z   \n\n                                                    tags    views   likes  \\\n0                                        SHANtell martin   748374   57527   \n1      last week tonight trump presidency|\"last week ...  2418783   97185   \n2      racist superman|\"rudy\"|\"mancuso\"|\"king\"|\"bach\"...  3191434  146033   \n3      rhett and link|\"gmm\"|\"good mythical morning\"|\"...   343168   10172   \n4      ryan|\"higa\"|\"higatv\"|\"nigahiga\"|\"i dare you\"|\"...  2095731  132235   \n...                                                  ...      ...     ...   \n40734  story booth Ð½Ð° Ñ€ÑƒÑÑÐºÐ¾Ð¼|\"story booth Ð...   129488    5893   \n40735  ÐºÐ°Ð³Ð°Ñ€Ñ‚|\"ÐºÐ°Ð³Ð¸\"|\"Ñ†Ð°Ð³Ð°Ñ€Ñ‚\"|\"Ð³Ð°Ð³...    99163    4659   \n40736                                             [none]   449611   24808   \n40737  Ñ€ÑƒÐ¼ Ñ‚ÑƒÑ€ Ð²Ð°Ð½Ð½Ð¾Ð¹ ÐºÐ¾Ð¼Ð½Ð°Ñ‚Ñ‹|\"roo...    14225     793   \n40738  Ð¿Ð»Ð¾Ñ…Ð¾Ð¹ ÑÐ¸Ð³Ð½Ð°Ð»|\"Ñ‚ÑƒÐ±ÑƒÑ ÑˆÐ¾Ñƒ\"|...    52340    7708   \n\n      dislikes comment_count                                  thumbnail_link  \\\n0         2966         15954  https://i.ytimg.com/vi/2kyS6SvSYSE/default.jpg   \n1         6146         12703  https://i.ytimg.com/vi/1ZAPwfrtAFY/default.jpg   \n2         5339          8181  https://i.ytimg.com/vi/5qpjK5DgCt4/default.jpg   \n3          666          2146  https://i.ytimg.com/vi/puqaWrEC7tY/default.jpg   \n4         1989         17518  https://i.ytimg.com/vi/d380meD0W0M/default.jpg   \n...        ...           ...                                             ...   \n40734      164           990  https://i.ytimg.com/vi/OMmR9THjVKM/default.jpg   \n40735      337           692  https://i.ytimg.com/vi/tX7p7NtNVDE/default.jpg   \n40736       93           974  https://i.ytimg.com/vi/KAyj5Xm1C64/default.jpg   \n40737       39           209  https://i.ytimg.com/vi/4PiSLIrsSiY/default.jpg   \n40738      133          1819  https://i.ytimg.com/vi/Ehy5foVfKOE/default.jpg   \n\n      comments_disabled ratings_disabled video_error_or_removed  \\\n0                 False            False                  False   \n1                 False            False                  False   \n2                 False            False                  False   \n3                 False            False                  False   \n4                 False            False                  False   \n...                 ...              ...                    ...   \n40734             False            False                  False   \n40735             False            False                  False   \n40736             False            False                  False   \n40737             False            False                  False   \n40738             False            False                  False   \n\n                                             description  \n0      SHANTELL'S CHANNEL - https://www.youtube.com/s...  \n1      One year after the presidential election, John...  \n2      WATCH MY PREVIOUS VIDEO ▶ \\n\\nSUBSCRIBE ► http...  \n3      Today we find out if Link is a Nickelback amat...  \n4      I know it's been a while since we did this sho...  \n...                                                  ...  \n40734  ÐšÐ¾Ñ‚Ð¸ÐºÐ¸ Ð² Blade and Soul - https://bit.l...  \n40735  ÐœÐ¾Ð¸ Ð”ÐµÑ‚ÑÐºÐ¸Ðµ Ð¢Ñ€Ð°Ð²Ð¼Ñ‹ 2 (Ð°Ð½Ð¸Ð¼...  \n40736  ***I do NOT own anything. Just want to share t...  \n40737  ÐžÐ±Ð·Ð¾Ñ€ Ð²Ð°Ð½Ð½Ð¾Ð¹ ÐºÐ¾Ð¼Ð½Ð°Ñ‚Ñ‹, Ñ‚ÑƒÐ°...  \n40738  Ð’ 90-Ñ… Ð³Ð¾Ð´Ð°Ñ… Ð¿Ñ€Ð¾ÑˆÐ»Ð¾Ð³Ð¾ Ð²ÐµÐºÐ° ...  \n\n[375942 rows x 16 columns]",
      "text/html": "<div>\n<style scoped>\n    .dataframe tbody tr th:only-of-type {\n        vertical-align: middle;\n    }\n\n    .dataframe tbody tr th {\n        vertical-align: top;\n    }\n\n    .dataframe thead th {\n        text-align: right;\n    }\n</style>\n<table border=\"1\" class=\"dataframe\">\n  <thead>\n    <tr style=\"text-align: right;\">\n      <th></th>\n      <th>video_id</th>\n      <th>trending_date</th>\n      <th>title</th>\n      <th>channel_title</th>\n      <th>category_id</th>\n      <th>publish_time</th>\n      <th>tags</th>\n      <th>views</th>\n      <th>likes</th>\n      <th>dislikes</th>\n      <th>comment_count</th>\n      <th>thumbnail_link</th>\n      <th>comments_disabled</th>\n      <th>ratings_disabled</th>\n      <th>video_error_or_removed</th>\n      <th>description</th>\n    </tr>\n  </thead>\n  <tbody>\n    <tr>\n      <th>0</th>\n      <td>2kyS6SvSYSE</td>\n      <td>17.14.11</td>\n      <td>WE WANT TO TALK ABOUT OUR MARRIAGE</td>\n      <td>CaseyNeistat</td>\n      <td>22</td>\n      <td>2017-11-13T17:13:01.000Z</td>\n      <td>SHANtell martin</td>\n      <td>748374</td>\n      <td>57527</td>\n      <td>2966</td>\n      <td>15954</td>\n      <td>https://i.ytimg.com/vi/2kyS6SvSYSE/default.jpg</td>\n      <td>False</td>\n      <td>False</td>\n      <td>False</td>\n      <td>SHANTELL'S CHANNEL - https://www.youtube.com/s...</td>\n    </tr>\n    <tr>\n      <th>1</th>\n      <td>1ZAPwfrtAFY</td>\n      <td>17.14.11</td>\n      <td>The Trump Presidency: Last Week Tonight with J...</td>\n      <td>LastWeekTonight</td>\n      <td>24</td>\n      <td>2017-11-13T07:30:00.000Z</td>\n      <td>last week tonight trump presidency|\"last week ...</td>\n      <td>2418783</td>\n      <td>97185</td>\n      <td>6146</td>\n      <td>12703</td>\n      <td>https://i.ytimg.com/vi/1ZAPwfrtAFY/default.jpg</td>\n      <td>False</td>\n      <td>False</td>\n      <td>False</td>\n      <td>One year after the presidential election, John...</td>\n    </tr>\n    <tr>\n      <th>2</th>\n      <td>5qpjK5DgCt4</td>\n      <td>17.14.11</td>\n      <td>Racist Superman | Rudy Mancuso, King Bach &amp; Le...</td>\n      <td>Rudy Mancuso</td>\n      <td>23</td>\n      <td>2017-11-12T19:05:24.000Z</td>\n      <td>racist superman|\"rudy\"|\"mancuso\"|\"king\"|\"bach\"...</td>\n      <td>3191434</td>\n      <td>146033</td>\n      <td>5339</td>\n      <td>8181</td>\n      <td>https://i.ytimg.com/vi/5qpjK5DgCt4/default.jpg</td>\n      <td>False</td>\n      <td>False</td>\n      <td>False</td>\n      <td>WATCH MY PREVIOUS VIDEO ▶ \\n\\nSUBSCRIBE ► http...</td>\n    </tr>\n    <tr>\n      <th>3</th>\n      <td>puqaWrEC7tY</td>\n      <td>17.14.11</td>\n      <td>Nickelback Lyrics: Real or Fake?</td>\n      <td>Good Mythical Morning</td>\n      <td>24</td>\n      <td>2017-11-13T11:00:04.000Z</td>\n      <td>rhett and link|\"gmm\"|\"good mythical morning\"|\"...</td>\n      <td>343168</td>\n      <td>10172</td>\n      <td>666</td>\n      <td>2146</td>\n      <td>https://i.ytimg.com/vi/puqaWrEC7tY/default.jpg</td>\n      <td>False</td>\n      <td>False</td>\n      <td>False</td>\n      <td>Today we find out if Link is a Nickelback amat...</td>\n    </tr>\n    <tr>\n      <th>4</th>\n      <td>d380meD0W0M</td>\n      <td>17.14.11</td>\n      <td>I Dare You: GOING BALD!?</td>\n      <td>nigahiga</td>\n      <td>24</td>\n      <td>2017-11-12T18:01:41.000Z</td>\n      <td>ryan|\"higa\"|\"higatv\"|\"nigahiga\"|\"i dare you\"|\"...</td>\n      <td>2095731</td>\n      <td>132235</td>\n      <td>1989</td>\n      <td>17518</td>\n      <td>https://i.ytimg.com/vi/d380meD0W0M/default.jpg</td>\n      <td>False</td>\n      <td>False</td>\n      <td>False</td>\n      <td>I know it's been a while since we did this sho...</td>\n    </tr>\n    <tr>\n      <th>...</th>\n      <td>...</td>\n      <td>...</td>\n      <td>...</td>\n      <td>...</td>\n      <td>...</td>\n      <td>...</td>\n      <td>...</td>\n      <td>...</td>\n      <td>...</td>\n      <td>...</td>\n      <td>...</td>\n      <td>...</td>\n      <td>...</td>\n      <td>...</td>\n      <td>...</td>\n      <td>...</td>\n    </tr>\n    <tr>\n      <th>40734</th>\n      <td>OMmR9THjVKM</td>\n      <td>18.14.06</td>\n      <td>Ð£ Ð¼ÐµÐ½Ñ Ð¡Ð”Ð’Ð“! (Story booth Ð½Ð° Ñ€ÑƒÑ...</td>\n      <td>Pastime Time</td>\n      <td>22</td>\n      <td>2018-06-13T13:47:01.000Z</td>\n      <td>story booth Ð½Ð° Ñ€ÑƒÑÑÐºÐ¾Ð¼|\"story booth Ð...</td>\n      <td>129488</td>\n      <td>5893</td>\n      <td>164</td>\n      <td>990</td>\n      <td>https://i.ytimg.com/vi/OMmR9THjVKM/default.jpg</td>\n      <td>False</td>\n      <td>False</td>\n      <td>False</td>\n      <td>ÐšÐ¾Ñ‚Ð¸ÐºÐ¸ Ð² Blade and Soul - https://bit.l...</td>\n    </tr>\n    <tr>\n      <th>40735</th>\n      <td>tX7p7NtNVDE</td>\n      <td>18.14.06</td>\n      <td>ÐœÐ¾Ð¸ Ð”ÐµÑ‚ÑÐºÐ¸Ðµ Ð¢Ñ€Ð°Ð²Ð¼Ñ‹ 2 (Ð°Ð½Ð¸Ð¼...</td>\n      <td>CaGArt</td>\n      <td>23</td>\n      <td>2018-06-12T09:38:38.000Z</td>\n      <td>ÐºÐ°Ð³Ð°Ñ€Ñ‚|\"ÐºÐ°Ð³Ð¸\"|\"Ñ†Ð°Ð³Ð°Ñ€Ñ‚\"|\"Ð³Ð°Ð³...</td>\n      <td>99163</td>\n      <td>4659</td>\n      <td>337</td>\n      <td>692</td>\n      <td>https://i.ytimg.com/vi/tX7p7NtNVDE/default.jpg</td>\n      <td>False</td>\n      <td>False</td>\n      <td>False</td>\n      <td>ÐœÐ¾Ð¸ Ð”ÐµÑ‚ÑÐºÐ¸Ðµ Ð¢Ñ€Ð°Ð²Ð¼Ñ‹ 2 (Ð°Ð½Ð¸Ð¼...</td>\n    </tr>\n    <tr>\n      <th>40736</th>\n      <td>KAyj5Xm1C64</td>\n      <td>18.14.06</td>\n      <td>[ENG SUB] BTS PROM PARTY 2018 Intro + 2nd Gran...</td>\n      <td>DaisyxBTS 07</td>\n      <td>24</td>\n      <td>2018-06-13T12:51:23.000Z</td>\n      <td>[none]</td>\n      <td>449611</td>\n      <td>24808</td>\n      <td>93</td>\n      <td>974</td>\n      <td>https://i.ytimg.com/vi/KAyj5Xm1C64/default.jpg</td>\n      <td>False</td>\n      <td>False</td>\n      <td>False</td>\n      <td>***I do NOT own anything. Just want to share t...</td>\n    </tr>\n    <tr>\n      <th>40737</th>\n      <td>4PiSLIrsSiY</td>\n      <td>18.14.06</td>\n      <td>ÐžÐ‘Ð—ÐžÐ  Ð’ÐÐÐÐžÐ™ ÐšÐžÐœÐÐÐ¢Ð«ðŸ›/Ð¢Ð...</td>\n      <td>ÐšÑÑŽÑˆÐ° Ð›ÐµÐ±ÐµÐ´ÐµÐ²Ð°</td>\n      <td>22</td>\n      <td>2018-06-13T00:23:33.000Z</td>\n      <td>Ñ€ÑƒÐ¼ Ñ‚ÑƒÑ€ Ð²Ð°Ð½Ð½Ð¾Ð¹ ÐºÐ¾Ð¼Ð½Ð°Ñ‚Ñ‹|\"roo...</td>\n      <td>14225</td>\n      <td>793</td>\n      <td>39</td>\n      <td>209</td>\n      <td>https://i.ytimg.com/vi/4PiSLIrsSiY/default.jpg</td>\n      <td>False</td>\n      <td>False</td>\n      <td>False</td>\n      <td>ÐžÐ±Ð·Ð¾Ñ€ Ð²Ð°Ð½Ð½Ð¾Ð¹ ÐºÐ¾Ð¼Ð½Ð°Ñ‚Ñ‹, Ñ‚ÑƒÐ°...</td>\n    </tr>\n    <tr>\n      <th>40738</th>\n      <td>Ehy5foVfKOE</td>\n      <td>18.14.06</td>\n      <td>ÐŸÐ»Ð¾Ñ…Ð¾Ð¹ ÑÐ¸Ð³Ð½Ð°Ð». Ð¡Ñ‚Ð°Ð½ÑŒ Ñ‡ÐµÐ»Ð¾...</td>\n      <td>Tubus Show</td>\n      <td>29</td>\n      <td>2018-06-13T09:50:09.000Z</td>\n      <td>Ð¿Ð»Ð¾Ñ…Ð¾Ð¹ ÑÐ¸Ð³Ð½Ð°Ð»|\"Ñ‚ÑƒÐ±ÑƒÑ ÑˆÐ¾Ñƒ\"|...</td>\n      <td>52340</td>\n      <td>7708</td>\n      <td>133</td>\n      <td>1819</td>\n      <td>https://i.ytimg.com/vi/Ehy5foVfKOE/default.jpg</td>\n      <td>False</td>\n      <td>False</td>\n      <td>False</td>\n      <td>Ð’ 90-Ñ… Ð³Ð¾Ð´Ð°Ñ… Ð¿Ñ€Ð¾ÑˆÐ»Ð¾Ð³Ð¾ Ð²ÐµÐºÐ° ...</td>\n    </tr>\n  </tbody>\n</table>\n<p>375942 rows × 16 columns</p>\n</div>"
     },
     "execution_count": 3,
     "metadata": {},
     "output_type": "execute_result"
    }
   ],
   "source": [
    "# combine all sub parts to one\n",
    "df = pd.DataFrame(columns=US.columns)\n",
    "data = [US,CA,FR,GB,KR,DE,JP,IND,MX,RU]\n",
    "\n",
    "for sub in data:\n",
    "    df = df.append(sub)\n",
    "\n",
    "df"
   ],
   "metadata": {
    "collapsed": false,
    "pycharm": {
     "name": "#%%\n"
    }
   }
  },
  {
   "cell_type": "code",
   "execution_count": 4,
   "outputs": [
    {
     "data": {
      "text/plain": "      category_id    views   likes dislikes comment_count comments_disabled  \\\n0              22   748374   57527     2966         15954             False   \n1              24  2418783   97185     6146         12703             False   \n2              23  3191434  146033     5339          8181             False   \n3              24   343168   10172      666          2146             False   \n4              24  2095731  132235     1989         17518             False   \n...           ...      ...     ...      ...           ...               ...   \n40734          22   129488    5893      164           990             False   \n40735          23    99163    4659      337           692             False   \n40736          24   449611   24808       93           974             False   \n40737          22    14225     793       39           209             False   \n40738          29    52340    7708      133          1819             False   \n\n      ratings_disabled video_error_or_removed  \n0                False                  False  \n1                False                  False  \n2                False                  False  \n3                False                  False  \n4                False                  False  \n...                ...                    ...  \n40734            False                  False  \n40735            False                  False  \n40736            False                  False  \n40737            False                  False  \n40738            False                  False  \n\n[375942 rows x 8 columns]",
      "text/html": "<div>\n<style scoped>\n    .dataframe tbody tr th:only-of-type {\n        vertical-align: middle;\n    }\n\n    .dataframe tbody tr th {\n        vertical-align: top;\n    }\n\n    .dataframe thead th {\n        text-align: right;\n    }\n</style>\n<table border=\"1\" class=\"dataframe\">\n  <thead>\n    <tr style=\"text-align: right;\">\n      <th></th>\n      <th>category_id</th>\n      <th>views</th>\n      <th>likes</th>\n      <th>dislikes</th>\n      <th>comment_count</th>\n      <th>comments_disabled</th>\n      <th>ratings_disabled</th>\n      <th>video_error_or_removed</th>\n    </tr>\n  </thead>\n  <tbody>\n    <tr>\n      <th>0</th>\n      <td>22</td>\n      <td>748374</td>\n      <td>57527</td>\n      <td>2966</td>\n      <td>15954</td>\n      <td>False</td>\n      <td>False</td>\n      <td>False</td>\n    </tr>\n    <tr>\n      <th>1</th>\n      <td>24</td>\n      <td>2418783</td>\n      <td>97185</td>\n      <td>6146</td>\n      <td>12703</td>\n      <td>False</td>\n      <td>False</td>\n      <td>False</td>\n    </tr>\n    <tr>\n      <th>2</th>\n      <td>23</td>\n      <td>3191434</td>\n      <td>146033</td>\n      <td>5339</td>\n      <td>8181</td>\n      <td>False</td>\n      <td>False</td>\n      <td>False</td>\n    </tr>\n    <tr>\n      <th>3</th>\n      <td>24</td>\n      <td>343168</td>\n      <td>10172</td>\n      <td>666</td>\n      <td>2146</td>\n      <td>False</td>\n      <td>False</td>\n      <td>False</td>\n    </tr>\n    <tr>\n      <th>4</th>\n      <td>24</td>\n      <td>2095731</td>\n      <td>132235</td>\n      <td>1989</td>\n      <td>17518</td>\n      <td>False</td>\n      <td>False</td>\n      <td>False</td>\n    </tr>\n    <tr>\n      <th>...</th>\n      <td>...</td>\n      <td>...</td>\n      <td>...</td>\n      <td>...</td>\n      <td>...</td>\n      <td>...</td>\n      <td>...</td>\n      <td>...</td>\n    </tr>\n    <tr>\n      <th>40734</th>\n      <td>22</td>\n      <td>129488</td>\n      <td>5893</td>\n      <td>164</td>\n      <td>990</td>\n      <td>False</td>\n      <td>False</td>\n      <td>False</td>\n    </tr>\n    <tr>\n      <th>40735</th>\n      <td>23</td>\n      <td>99163</td>\n      <td>4659</td>\n      <td>337</td>\n      <td>692</td>\n      <td>False</td>\n      <td>False</td>\n      <td>False</td>\n    </tr>\n    <tr>\n      <th>40736</th>\n      <td>24</td>\n      <td>449611</td>\n      <td>24808</td>\n      <td>93</td>\n      <td>974</td>\n      <td>False</td>\n      <td>False</td>\n      <td>False</td>\n    </tr>\n    <tr>\n      <th>40737</th>\n      <td>22</td>\n      <td>14225</td>\n      <td>793</td>\n      <td>39</td>\n      <td>209</td>\n      <td>False</td>\n      <td>False</td>\n      <td>False</td>\n    </tr>\n    <tr>\n      <th>40738</th>\n      <td>29</td>\n      <td>52340</td>\n      <td>7708</td>\n      <td>133</td>\n      <td>1819</td>\n      <td>False</td>\n      <td>False</td>\n      <td>False</td>\n    </tr>\n  </tbody>\n</table>\n<p>375942 rows × 8 columns</p>\n</div>"
     },
     "execution_count": 4,
     "metadata": {},
     "output_type": "execute_result"
    }
   ],
   "source": [
    "# drop unwanted features\n",
    "df.drop(labels=['video_id','title','channel_title','tags',\n",
    "                'thumbnail_link','description','trending_date','publish_time'],\n",
    "        axis=1,\n",
    "        inplace=True)\n",
    "df"
   ],
   "metadata": {
    "collapsed": false,
    "pycharm": {
     "name": "#%%\n"
    }
   }
  },
  {
   "cell_type": "code",
   "execution_count": 5,
   "outputs": [],
   "source": [
    "cols_with_bool = ['comments_disabled','ratings_disabled','video_error_or_removed']\n",
    "\n",
    "for col in cols_with_bool:\n",
    "    df[col] = df[col].apply(lambda x: 0 if x==False else 1 )"
   ],
   "metadata": {
    "collapsed": false,
    "pycharm": {
     "name": "#%%\n"
    }
   }
  },
  {
   "cell_type": "code",
   "execution_count": 6,
   "outputs": [
    {
     "ename": "KeyError",
     "evalue": "\"['index'] not found in axis\"",
     "output_type": "error",
     "traceback": [
      "\u001B[1;31m---------------------------------------------------------------------------\u001B[0m",
      "\u001B[1;31mKeyError\u001B[0m                                  Traceback (most recent call last)",
      "\u001B[1;32m<ipython-input-6-aa293ca97b32>\u001B[0m in \u001B[0;36m<module>\u001B[1;34m\u001B[0m\n\u001B[0;32m      2\u001B[0m df.drop(['index'],\n\u001B[0;32m      3\u001B[0m         \u001B[0maxis\u001B[0m\u001B[1;33m=\u001B[0m\u001B[1;36m1\u001B[0m\u001B[1;33m,\u001B[0m\u001B[1;33m\u001B[0m\u001B[1;33m\u001B[0m\u001B[0m\n\u001B[1;32m----> 4\u001B[1;33m         inplace=True)\n\u001B[0m\u001B[0;32m      5\u001B[0m \u001B[0mdf\u001B[0m\u001B[1;33m\u001B[0m\u001B[1;33m\u001B[0m\u001B[0m\n\u001B[0;32m      6\u001B[0m \u001B[1;33m\u001B[0m\u001B[0m\n",
      "\u001B[1;32mc:\\users\\ashen\\appdata\\local\\programs\\python\\python37\\lib\\site-packages\\pandas\\core\\frame.py\u001B[0m in \u001B[0;36mdrop\u001B[1;34m(self, labels, axis, index, columns, level, inplace, errors)\u001B[0m\n\u001B[0;32m   4310\u001B[0m             \u001B[0mlevel\u001B[0m\u001B[1;33m=\u001B[0m\u001B[0mlevel\u001B[0m\u001B[1;33m,\u001B[0m\u001B[1;33m\u001B[0m\u001B[1;33m\u001B[0m\u001B[0m\n\u001B[0;32m   4311\u001B[0m             \u001B[0minplace\u001B[0m\u001B[1;33m=\u001B[0m\u001B[0minplace\u001B[0m\u001B[1;33m,\u001B[0m\u001B[1;33m\u001B[0m\u001B[1;33m\u001B[0m\u001B[0m\n\u001B[1;32m-> 4312\u001B[1;33m             \u001B[0merrors\u001B[0m\u001B[1;33m=\u001B[0m\u001B[0merrors\u001B[0m\u001B[1;33m,\u001B[0m\u001B[1;33m\u001B[0m\u001B[1;33m\u001B[0m\u001B[0m\n\u001B[0m\u001B[0;32m   4313\u001B[0m         )\n\u001B[0;32m   4314\u001B[0m \u001B[1;33m\u001B[0m\u001B[0m\n",
      "\u001B[1;32mc:\\users\\ashen\\appdata\\local\\programs\\python\\python37\\lib\\site-packages\\pandas\\core\\generic.py\u001B[0m in \u001B[0;36mdrop\u001B[1;34m(self, labels, axis, index, columns, level, inplace, errors)\u001B[0m\n\u001B[0;32m   4148\u001B[0m         \u001B[1;32mfor\u001B[0m \u001B[0maxis\u001B[0m\u001B[1;33m,\u001B[0m \u001B[0mlabels\u001B[0m \u001B[1;32min\u001B[0m \u001B[0maxes\u001B[0m\u001B[1;33m.\u001B[0m\u001B[0mitems\u001B[0m\u001B[1;33m(\u001B[0m\u001B[1;33m)\u001B[0m\u001B[1;33m:\u001B[0m\u001B[1;33m\u001B[0m\u001B[1;33m\u001B[0m\u001B[0m\n\u001B[0;32m   4149\u001B[0m             \u001B[1;32mif\u001B[0m \u001B[0mlabels\u001B[0m \u001B[1;32mis\u001B[0m \u001B[1;32mnot\u001B[0m \u001B[1;32mNone\u001B[0m\u001B[1;33m:\u001B[0m\u001B[1;33m\u001B[0m\u001B[1;33m\u001B[0m\u001B[0m\n\u001B[1;32m-> 4150\u001B[1;33m                 \u001B[0mobj\u001B[0m \u001B[1;33m=\u001B[0m \u001B[0mobj\u001B[0m\u001B[1;33m.\u001B[0m\u001B[0m_drop_axis\u001B[0m\u001B[1;33m(\u001B[0m\u001B[0mlabels\u001B[0m\u001B[1;33m,\u001B[0m \u001B[0maxis\u001B[0m\u001B[1;33m,\u001B[0m \u001B[0mlevel\u001B[0m\u001B[1;33m=\u001B[0m\u001B[0mlevel\u001B[0m\u001B[1;33m,\u001B[0m \u001B[0merrors\u001B[0m\u001B[1;33m=\u001B[0m\u001B[0merrors\u001B[0m\u001B[1;33m)\u001B[0m\u001B[1;33m\u001B[0m\u001B[1;33m\u001B[0m\u001B[0m\n\u001B[0m\u001B[0;32m   4151\u001B[0m \u001B[1;33m\u001B[0m\u001B[0m\n\u001B[0;32m   4152\u001B[0m         \u001B[1;32mif\u001B[0m \u001B[0minplace\u001B[0m\u001B[1;33m:\u001B[0m\u001B[1;33m\u001B[0m\u001B[1;33m\u001B[0m\u001B[0m\n",
      "\u001B[1;32mc:\\users\\ashen\\appdata\\local\\programs\\python\\python37\\lib\\site-packages\\pandas\\core\\generic.py\u001B[0m in \u001B[0;36m_drop_axis\u001B[1;34m(self, labels, axis, level, errors)\u001B[0m\n\u001B[0;32m   4183\u001B[0m                 \u001B[0mnew_axis\u001B[0m \u001B[1;33m=\u001B[0m \u001B[0maxis\u001B[0m\u001B[1;33m.\u001B[0m\u001B[0mdrop\u001B[0m\u001B[1;33m(\u001B[0m\u001B[0mlabels\u001B[0m\u001B[1;33m,\u001B[0m \u001B[0mlevel\u001B[0m\u001B[1;33m=\u001B[0m\u001B[0mlevel\u001B[0m\u001B[1;33m,\u001B[0m \u001B[0merrors\u001B[0m\u001B[1;33m=\u001B[0m\u001B[0merrors\u001B[0m\u001B[1;33m)\u001B[0m\u001B[1;33m\u001B[0m\u001B[1;33m\u001B[0m\u001B[0m\n\u001B[0;32m   4184\u001B[0m             \u001B[1;32melse\u001B[0m\u001B[1;33m:\u001B[0m\u001B[1;33m\u001B[0m\u001B[1;33m\u001B[0m\u001B[0m\n\u001B[1;32m-> 4185\u001B[1;33m                 \u001B[0mnew_axis\u001B[0m \u001B[1;33m=\u001B[0m \u001B[0maxis\u001B[0m\u001B[1;33m.\u001B[0m\u001B[0mdrop\u001B[0m\u001B[1;33m(\u001B[0m\u001B[0mlabels\u001B[0m\u001B[1;33m,\u001B[0m \u001B[0merrors\u001B[0m\u001B[1;33m=\u001B[0m\u001B[0merrors\u001B[0m\u001B[1;33m)\u001B[0m\u001B[1;33m\u001B[0m\u001B[1;33m\u001B[0m\u001B[0m\n\u001B[0m\u001B[0;32m   4186\u001B[0m             \u001B[0mresult\u001B[0m \u001B[1;33m=\u001B[0m \u001B[0mself\u001B[0m\u001B[1;33m.\u001B[0m\u001B[0mreindex\u001B[0m\u001B[1;33m(\u001B[0m\u001B[1;33m**\u001B[0m\u001B[1;33m{\u001B[0m\u001B[0maxis_name\u001B[0m\u001B[1;33m:\u001B[0m \u001B[0mnew_axis\u001B[0m\u001B[1;33m}\u001B[0m\u001B[1;33m)\u001B[0m\u001B[1;33m\u001B[0m\u001B[1;33m\u001B[0m\u001B[0m\n\u001B[0;32m   4187\u001B[0m \u001B[1;33m\u001B[0m\u001B[0m\n",
      "\u001B[1;32mc:\\users\\ashen\\appdata\\local\\programs\\python\\python37\\lib\\site-packages\\pandas\\core\\indexes\\base.py\u001B[0m in \u001B[0;36mdrop\u001B[1;34m(self, labels, errors)\u001B[0m\n\u001B[0;32m   5589\u001B[0m         \u001B[1;32mif\u001B[0m \u001B[0mmask\u001B[0m\u001B[1;33m.\u001B[0m\u001B[0many\u001B[0m\u001B[1;33m(\u001B[0m\u001B[1;33m)\u001B[0m\u001B[1;33m:\u001B[0m\u001B[1;33m\u001B[0m\u001B[1;33m\u001B[0m\u001B[0m\n\u001B[0;32m   5590\u001B[0m             \u001B[1;32mif\u001B[0m \u001B[0merrors\u001B[0m \u001B[1;33m!=\u001B[0m \u001B[1;34m\"ignore\"\u001B[0m\u001B[1;33m:\u001B[0m\u001B[1;33m\u001B[0m\u001B[1;33m\u001B[0m\u001B[0m\n\u001B[1;32m-> 5591\u001B[1;33m                 \u001B[1;32mraise\u001B[0m \u001B[0mKeyError\u001B[0m\u001B[1;33m(\u001B[0m\u001B[1;34mf\"{labels[mask]} not found in axis\"\u001B[0m\u001B[1;33m)\u001B[0m\u001B[1;33m\u001B[0m\u001B[1;33m\u001B[0m\u001B[0m\n\u001B[0m\u001B[0;32m   5592\u001B[0m             \u001B[0mindexer\u001B[0m \u001B[1;33m=\u001B[0m \u001B[0mindexer\u001B[0m\u001B[1;33m[\u001B[0m\u001B[1;33m~\u001B[0m\u001B[0mmask\u001B[0m\u001B[1;33m]\u001B[0m\u001B[1;33m\u001B[0m\u001B[1;33m\u001B[0m\u001B[0m\n\u001B[0;32m   5593\u001B[0m         \u001B[1;32mreturn\u001B[0m \u001B[0mself\u001B[0m\u001B[1;33m.\u001B[0m\u001B[0mdelete\u001B[0m\u001B[1;33m(\u001B[0m\u001B[0mindexer\u001B[0m\u001B[1;33m)\u001B[0m\u001B[1;33m\u001B[0m\u001B[1;33m\u001B[0m\u001B[0m\n",
      "\u001B[1;31mKeyError\u001B[0m: \"['index'] not found in axis\""
     ]
    }
   ],
   "source": [
    "# df.reset_index(inplace=True)\n",
    "df.drop(['index'],\n",
    "        axis=1,\n",
    "        inplace=True)\n",
    "df"
   ],
   "metadata": {
    "collapsed": false,
    "pycharm": {
     "name": "#%%\n"
    }
   }
  },
  {
   "cell_type": "code",
   "execution_count": 8,
   "outputs": [
    {
     "data": {
      "text/plain": "category_id               int32\nviews                     int32\nlikes                     int32\ndislikes                  int32\ncomment_count             int32\ncomments_disabled         int32\nratings_disabled          int32\nvideo_error_or_removed    int32\ndtype: object"
     },
     "execution_count": 8,
     "metadata": {},
     "output_type": "execute_result"
    }
   ],
   "source": [
    "for col in df.columns:\n",
    "    df[col] = df[col].astype(dtype=int)\n",
    "\n",
    "df.dtypes"
   ],
   "metadata": {
    "collapsed": false,
    "pycharm": {
     "name": "#%%\n"
    }
   }
  },
  {
   "cell_type": "code",
   "execution_count": 9,
   "outputs": [],
   "source": [
    "# split data set to test,train (20/80)\n",
    "x_train,x_test = train_test_split(df,\n",
    "                                                 test_size=0.2,\n",
    "                                                 random_state=42)"
   ],
   "metadata": {
    "collapsed": false,
    "pycharm": {
     "name": "#%%\n"
    }
   }
  },
  {
   "cell_type": "code",
   "execution_count": 10,
   "outputs": [
    {
     "data": {
      "text/plain": "((75189, 8), (300753, 8))"
     },
     "execution_count": 10,
     "metadata": {},
     "output_type": "execute_result"
    }
   ],
   "source": [
    "x_test.shape,x_train.shape"
   ],
   "metadata": {
    "collapsed": false,
    "pycharm": {
     "name": "#%%\n"
    }
   }
  },
  {
   "cell_type": "code",
   "execution_count": 11,
   "outputs": [
    {
     "data": {
      "text/plain": "         category_id         views         likes      dislikes  comment_count  \\\ncount  300753.000000  3.007530e+05  3.007530e+05  3.007530e+05   3.007530e+05   \nmean       20.224437  1.339033e+06  3.807758e+04  2.160651e+03   4.275398e+03   \nstd         7.143285  7.272877e+06  1.657753e+05  2.330912e+04   2.559893e+04   \nmin         1.000000  1.170000e+02  0.000000e+00  0.000000e+00   0.000000e+00   \n25%        17.000000  4.685000e+04  6.680000e+02  4.100000e+01   1.080000e+02   \n50%        23.000000  1.773450e+05  3.436000e+03  1.790000e+02   5.120000e+02   \n75%        24.000000  6.473630e+05  1.745600e+04  7.490000e+02   2.009000e+03   \nmax        44.000000  4.245389e+08  5.613827e+06  1.944971e+06   1.626501e+06   \n\n       comments_disabled  ratings_disabled  video_error_or_removed  \ncount      300753.000000     300753.000000           300753.000000  \nmean            0.022686          0.019494                0.000702  \nstd             0.148902          0.138255                0.026478  \nmin             0.000000          0.000000                0.000000  \n25%             0.000000          0.000000                0.000000  \n50%             0.000000          0.000000                0.000000  \n75%             0.000000          0.000000                0.000000  \nmax             1.000000          1.000000                1.000000  ",
      "text/html": "<div>\n<style scoped>\n    .dataframe tbody tr th:only-of-type {\n        vertical-align: middle;\n    }\n\n    .dataframe tbody tr th {\n        vertical-align: top;\n    }\n\n    .dataframe thead th {\n        text-align: right;\n    }\n</style>\n<table border=\"1\" class=\"dataframe\">\n  <thead>\n    <tr style=\"text-align: right;\">\n      <th></th>\n      <th>category_id</th>\n      <th>views</th>\n      <th>likes</th>\n      <th>dislikes</th>\n      <th>comment_count</th>\n      <th>comments_disabled</th>\n      <th>ratings_disabled</th>\n      <th>video_error_or_removed</th>\n    </tr>\n  </thead>\n  <tbody>\n    <tr>\n      <th>count</th>\n      <td>300753.000000</td>\n      <td>3.007530e+05</td>\n      <td>3.007530e+05</td>\n      <td>3.007530e+05</td>\n      <td>3.007530e+05</td>\n      <td>300753.000000</td>\n      <td>300753.000000</td>\n      <td>300753.000000</td>\n    </tr>\n    <tr>\n      <th>mean</th>\n      <td>20.224437</td>\n      <td>1.339033e+06</td>\n      <td>3.807758e+04</td>\n      <td>2.160651e+03</td>\n      <td>4.275398e+03</td>\n      <td>0.022686</td>\n      <td>0.019494</td>\n      <td>0.000702</td>\n    </tr>\n    <tr>\n      <th>std</th>\n      <td>7.143285</td>\n      <td>7.272877e+06</td>\n      <td>1.657753e+05</td>\n      <td>2.330912e+04</td>\n      <td>2.559893e+04</td>\n      <td>0.148902</td>\n      <td>0.138255</td>\n      <td>0.026478</td>\n    </tr>\n    <tr>\n      <th>min</th>\n      <td>1.000000</td>\n      <td>1.170000e+02</td>\n      <td>0.000000e+00</td>\n      <td>0.000000e+00</td>\n      <td>0.000000e+00</td>\n      <td>0.000000</td>\n      <td>0.000000</td>\n      <td>0.000000</td>\n    </tr>\n    <tr>\n      <th>25%</th>\n      <td>17.000000</td>\n      <td>4.685000e+04</td>\n      <td>6.680000e+02</td>\n      <td>4.100000e+01</td>\n      <td>1.080000e+02</td>\n      <td>0.000000</td>\n      <td>0.000000</td>\n      <td>0.000000</td>\n    </tr>\n    <tr>\n      <th>50%</th>\n      <td>23.000000</td>\n      <td>1.773450e+05</td>\n      <td>3.436000e+03</td>\n      <td>1.790000e+02</td>\n      <td>5.120000e+02</td>\n      <td>0.000000</td>\n      <td>0.000000</td>\n      <td>0.000000</td>\n    </tr>\n    <tr>\n      <th>75%</th>\n      <td>24.000000</td>\n      <td>6.473630e+05</td>\n      <td>1.745600e+04</td>\n      <td>7.490000e+02</td>\n      <td>2.009000e+03</td>\n      <td>0.000000</td>\n      <td>0.000000</td>\n      <td>0.000000</td>\n    </tr>\n    <tr>\n      <th>max</th>\n      <td>44.000000</td>\n      <td>4.245389e+08</td>\n      <td>5.613827e+06</td>\n      <td>1.944971e+06</td>\n      <td>1.626501e+06</td>\n      <td>1.000000</td>\n      <td>1.000000</td>\n      <td>1.000000</td>\n    </tr>\n  </tbody>\n</table>\n</div>"
     },
     "execution_count": 11,
     "metadata": {},
     "output_type": "execute_result"
    }
   ],
   "source": [
    "x_train.describe(include='all')"
   ],
   "metadata": {
    "collapsed": false,
    "pycharm": {
     "name": "#%%\n"
    }
   }
  },
  {
   "cell_type": "code",
   "execution_count": 12,
   "outputs": [
    {
     "data": {
      "text/plain": "pandas.core.frame.DataFrame"
     },
     "execution_count": 12,
     "metadata": {},
     "output_type": "execute_result"
    }
   ],
   "source": [
    "type(x_train.describe(include='all'))"
   ],
   "metadata": {
    "collapsed": false,
    "pycharm": {
     "name": "#%%\n"
    }
   }
  },
  {
   "cell_type": "code",
   "execution_count": 13,
   "outputs": [
    {
     "data": {
      "text/plain": "dict_keys([1, 2, 10, 15, 17, 19, 20, 22, 23, 24, 25, 26, 27, 28, 29, 30, 43, 44])"
     },
     "execution_count": 13,
     "metadata": {},
     "output_type": "execute_result"
    }
   ],
   "source": [
    "x_train.groupby('category_id').groups.keys()"
   ],
   "metadata": {
    "collapsed": false,
    "pycharm": {
     "name": "#%%\n"
    }
   }
  },
  {
   "cell_type": "code",
   "execution_count": 14,
   "outputs": [
    {
     "data": {
      "text/plain": "                    views          likes     dislikes  comment_count  \\\ncategory_id                                                            \n1            1.317070e+06   27982.998090  1186.540945    3098.220186   \n2            3.544752e+05    9707.993249   537.275773    1280.413918   \n10           6.074091e+06  169833.305626  6971.669851   14444.248901   \n15           4.221975e+05   11636.397024   316.629862    1669.478987   \n17           7.926207e+05   16994.028139  1060.978395    1954.026242   \n19           4.102581e+05    7362.228169   400.740845    1226.697183   \n20           6.744095e+05   25670.355007  1739.217788    4288.046863   \n22           4.403690e+05   12824.430662  1035.584618    1863.357567   \n23           8.201183e+05   40350.426727  1535.218425    4101.956445   \n24           9.740512e+05   26707.280794  2374.602056    3831.658895   \n25           2.796608e+05    4384.728260   765.352401    1222.471599   \n26           5.102507e+05   18210.525089   664.581210    2580.904793   \n27           3.431413e+05   14756.549679   464.772276    1709.417308   \n28           1.132810e+06   31401.232879  1517.232726    5969.668761   \n29           4.752203e+05   36222.448695  9577.060756   10505.529253   \n30           1.895119e+06   28037.516129  1370.709677    1548.741935   \n43           4.642136e+05    4769.058385   720.373913     667.381366   \n44           1.130975e+04      15.000000     0.000000       0.500000   \n\n             comments_disabled  ratings_disabled  video_error_or_removed  \ncategory_id                                                               \n1                     0.024591          0.023397                0.004357  \n2                     0.015321          0.015840                0.000519  \n10                    0.005626          0.005391                0.001553  \n15                    0.019838          0.018272                0.000261  \n17                    0.022132          0.019287                0.000211  \n19                    0.011268          0.004930                0.000000  \n20                    0.017723          0.011634                0.000217  \n22                    0.020273          0.026607                0.000162  \n23                    0.006129          0.010076                0.000139  \n24                    0.024534          0.017325                0.000563  \n25                    0.050803          0.041319                0.000369  \n26                    0.009309          0.007989                0.000198  \n27                    0.043269          0.023718                0.000000  \n28                    0.028803          0.013176                0.000306  \n29                    0.093609          0.095410                0.000450  \n30                    0.000000          0.000000                0.000000  \n43                    0.021118          0.001242                0.000000  \n44                    0.500000          0.000000                0.000000  ",
      "text/html": "<div>\n<style scoped>\n    .dataframe tbody tr th:only-of-type {\n        vertical-align: middle;\n    }\n\n    .dataframe tbody tr th {\n        vertical-align: top;\n    }\n\n    .dataframe thead th {\n        text-align: right;\n    }\n</style>\n<table border=\"1\" class=\"dataframe\">\n  <thead>\n    <tr style=\"text-align: right;\">\n      <th></th>\n      <th>views</th>\n      <th>likes</th>\n      <th>dislikes</th>\n      <th>comment_count</th>\n      <th>comments_disabled</th>\n      <th>ratings_disabled</th>\n      <th>video_error_or_removed</th>\n    </tr>\n    <tr>\n      <th>category_id</th>\n      <th></th>\n      <th></th>\n      <th></th>\n      <th></th>\n      <th></th>\n      <th></th>\n      <th></th>\n    </tr>\n  </thead>\n  <tbody>\n    <tr>\n      <th>1</th>\n      <td>1.317070e+06</td>\n      <td>27982.998090</td>\n      <td>1186.540945</td>\n      <td>3098.220186</td>\n      <td>0.024591</td>\n      <td>0.023397</td>\n      <td>0.004357</td>\n    </tr>\n    <tr>\n      <th>2</th>\n      <td>3.544752e+05</td>\n      <td>9707.993249</td>\n      <td>537.275773</td>\n      <td>1280.413918</td>\n      <td>0.015321</td>\n      <td>0.015840</td>\n      <td>0.000519</td>\n    </tr>\n    <tr>\n      <th>10</th>\n      <td>6.074091e+06</td>\n      <td>169833.305626</td>\n      <td>6971.669851</td>\n      <td>14444.248901</td>\n      <td>0.005626</td>\n      <td>0.005391</td>\n      <td>0.001553</td>\n    </tr>\n    <tr>\n      <th>15</th>\n      <td>4.221975e+05</td>\n      <td>11636.397024</td>\n      <td>316.629862</td>\n      <td>1669.478987</td>\n      <td>0.019838</td>\n      <td>0.018272</td>\n      <td>0.000261</td>\n    </tr>\n    <tr>\n      <th>17</th>\n      <td>7.926207e+05</td>\n      <td>16994.028139</td>\n      <td>1060.978395</td>\n      <td>1954.026242</td>\n      <td>0.022132</td>\n      <td>0.019287</td>\n      <td>0.000211</td>\n    </tr>\n    <tr>\n      <th>19</th>\n      <td>4.102581e+05</td>\n      <td>7362.228169</td>\n      <td>400.740845</td>\n      <td>1226.697183</td>\n      <td>0.011268</td>\n      <td>0.004930</td>\n      <td>0.000000</td>\n    </tr>\n    <tr>\n      <th>20</th>\n      <td>6.744095e+05</td>\n      <td>25670.355007</td>\n      <td>1739.217788</td>\n      <td>4288.046863</td>\n      <td>0.017723</td>\n      <td>0.011634</td>\n      <td>0.000217</td>\n    </tr>\n    <tr>\n      <th>22</th>\n      <td>4.403690e+05</td>\n      <td>12824.430662</td>\n      <td>1035.584618</td>\n      <td>1863.357567</td>\n      <td>0.020273</td>\n      <td>0.026607</td>\n      <td>0.000162</td>\n    </tr>\n    <tr>\n      <th>23</th>\n      <td>8.201183e+05</td>\n      <td>40350.426727</td>\n      <td>1535.218425</td>\n      <td>4101.956445</td>\n      <td>0.006129</td>\n      <td>0.010076</td>\n      <td>0.000139</td>\n    </tr>\n    <tr>\n      <th>24</th>\n      <td>9.740512e+05</td>\n      <td>26707.280794</td>\n      <td>2374.602056</td>\n      <td>3831.658895</td>\n      <td>0.024534</td>\n      <td>0.017325</td>\n      <td>0.000563</td>\n    </tr>\n    <tr>\n      <th>25</th>\n      <td>2.796608e+05</td>\n      <td>4384.728260</td>\n      <td>765.352401</td>\n      <td>1222.471599</td>\n      <td>0.050803</td>\n      <td>0.041319</td>\n      <td>0.000369</td>\n    </tr>\n    <tr>\n      <th>26</th>\n      <td>5.102507e+05</td>\n      <td>18210.525089</td>\n      <td>664.581210</td>\n      <td>2580.904793</td>\n      <td>0.009309</td>\n      <td>0.007989</td>\n      <td>0.000198</td>\n    </tr>\n    <tr>\n      <th>27</th>\n      <td>3.431413e+05</td>\n      <td>14756.549679</td>\n      <td>464.772276</td>\n      <td>1709.417308</td>\n      <td>0.043269</td>\n      <td>0.023718</td>\n      <td>0.000000</td>\n    </tr>\n    <tr>\n      <th>28</th>\n      <td>1.132810e+06</td>\n      <td>31401.232879</td>\n      <td>1517.232726</td>\n      <td>5969.668761</td>\n      <td>0.028803</td>\n      <td>0.013176</td>\n      <td>0.000306</td>\n    </tr>\n    <tr>\n      <th>29</th>\n      <td>4.752203e+05</td>\n      <td>36222.448695</td>\n      <td>9577.060756</td>\n      <td>10505.529253</td>\n      <td>0.093609</td>\n      <td>0.095410</td>\n      <td>0.000450</td>\n    </tr>\n    <tr>\n      <th>30</th>\n      <td>1.895119e+06</td>\n      <td>28037.516129</td>\n      <td>1370.709677</td>\n      <td>1548.741935</td>\n      <td>0.000000</td>\n      <td>0.000000</td>\n      <td>0.000000</td>\n    </tr>\n    <tr>\n      <th>43</th>\n      <td>4.642136e+05</td>\n      <td>4769.058385</td>\n      <td>720.373913</td>\n      <td>667.381366</td>\n      <td>0.021118</td>\n      <td>0.001242</td>\n      <td>0.000000</td>\n    </tr>\n    <tr>\n      <th>44</th>\n      <td>1.130975e+04</td>\n      <td>15.000000</td>\n      <td>0.000000</td>\n      <td>0.500000</td>\n      <td>0.500000</td>\n      <td>0.000000</td>\n      <td>0.000000</td>\n    </tr>\n  </tbody>\n</table>\n</div>"
     },
     "execution_count": 14,
     "metadata": {},
     "output_type": "execute_result"
    }
   ],
   "source": [
    "x_train.groupby('category_id').agg(np.mean)"
   ],
   "metadata": {
    "collapsed": false,
    "pycharm": {
     "name": "#%%\n"
    }
   }
  },
  {
   "cell_type": "code",
   "execution_count": 15,
   "outputs": [
    {
     "data": {
      "text/plain": "375942"
     },
     "execution_count": 15,
     "metadata": {},
     "output_type": "execute_result"
    }
   ],
   "source": [
    "len(df.dropna())"
   ],
   "metadata": {
    "collapsed": false,
    "pycharm": {
     "name": "#%%\n"
    }
   }
  },
  {
   "cell_type": "code",
   "execution_count": 16,
   "outputs": [
    {
     "data": {
      "text/plain": "category_id               0\nviews                     0\nlikes                     0\ndislikes                  0\ncomment_count             0\ncomments_disabled         0\nratings_disabled          0\nvideo_error_or_removed    0\ndtype: int64"
     },
     "execution_count": 16,
     "metadata": {},
     "output_type": "execute_result"
    }
   ],
   "source": [
    "# check na values\n",
    "df.aggregate(lambda x: x.isna().sum())"
   ],
   "metadata": {
    "collapsed": false,
    "pycharm": {
     "name": "#%%\n"
    }
   }
  },
  {
   "cell_type": "code",
   "execution_count": 17,
   "outputs": [
    {
     "name": "stdout",
     "output_type": "stream",
     "text": [
      "<class 'pandas.core.frame.DataFrame'>\n",
      "Int64Index: 375942 entries, 0 to 40738\n",
      "Data columns (total 8 columns):\n",
      " #   Column                  Non-Null Count   Dtype\n",
      "---  ------                  --------------   -----\n",
      " 0   category_id             375942 non-null  int32\n",
      " 1   views                   375942 non-null  int32\n",
      " 2   likes                   375942 non-null  int32\n",
      " 3   dislikes                375942 non-null  int32\n",
      " 4   comment_count           375942 non-null  int32\n",
      " 5   comments_disabled       375942 non-null  int32\n",
      " 6   ratings_disabled        375942 non-null  int32\n",
      " 7   video_error_or_removed  375942 non-null  int32\n",
      "dtypes: int32(8)\n",
      "memory usage: 14.3 MB\n"
     ]
    }
   ],
   "source": [
    "# exploretary analysis\n",
    "df.info()"
   ],
   "metadata": {
    "collapsed": false,
    "pycharm": {
     "name": "#%%\n"
    }
   }
  },
  {
   "cell_type": "code",
   "execution_count": 18,
   "outputs": [
    {
     "data": {
      "text/plain": "   category_id    views   likes  dislikes  comment_count  comments_disabled  \\\n0           22   748374   57527      2966          15954                  0   \n1           24  2418783   97185      6146          12703                  0   \n2           23  3191434  146033      5339           8181                  0   \n3           24   343168   10172       666           2146                  0   \n4           24  2095731  132235      1989          17518                  0   \n\n   ratings_disabled  video_error_or_removed  \n0                 0                       0  \n1                 0                       0  \n2                 0                       0  \n3                 0                       0  \n4                 0                       0  ",
      "text/html": "<div>\n<style scoped>\n    .dataframe tbody tr th:only-of-type {\n        vertical-align: middle;\n    }\n\n    .dataframe tbody tr th {\n        vertical-align: top;\n    }\n\n    .dataframe thead th {\n        text-align: right;\n    }\n</style>\n<table border=\"1\" class=\"dataframe\">\n  <thead>\n    <tr style=\"text-align: right;\">\n      <th></th>\n      <th>category_id</th>\n      <th>views</th>\n      <th>likes</th>\n      <th>dislikes</th>\n      <th>comment_count</th>\n      <th>comments_disabled</th>\n      <th>ratings_disabled</th>\n      <th>video_error_or_removed</th>\n    </tr>\n  </thead>\n  <tbody>\n    <tr>\n      <th>0</th>\n      <td>22</td>\n      <td>748374</td>\n      <td>57527</td>\n      <td>2966</td>\n      <td>15954</td>\n      <td>0</td>\n      <td>0</td>\n      <td>0</td>\n    </tr>\n    <tr>\n      <th>1</th>\n      <td>24</td>\n      <td>2418783</td>\n      <td>97185</td>\n      <td>6146</td>\n      <td>12703</td>\n      <td>0</td>\n      <td>0</td>\n      <td>0</td>\n    </tr>\n    <tr>\n      <th>2</th>\n      <td>23</td>\n      <td>3191434</td>\n      <td>146033</td>\n      <td>5339</td>\n      <td>8181</td>\n      <td>0</td>\n      <td>0</td>\n      <td>0</td>\n    </tr>\n    <tr>\n      <th>3</th>\n      <td>24</td>\n      <td>343168</td>\n      <td>10172</td>\n      <td>666</td>\n      <td>2146</td>\n      <td>0</td>\n      <td>0</td>\n      <td>0</td>\n    </tr>\n    <tr>\n      <th>4</th>\n      <td>24</td>\n      <td>2095731</td>\n      <td>132235</td>\n      <td>1989</td>\n      <td>17518</td>\n      <td>0</td>\n      <td>0</td>\n      <td>0</td>\n    </tr>\n  </tbody>\n</table>\n</div>"
     },
     "execution_count": 18,
     "metadata": {},
     "output_type": "execute_result"
    }
   ],
   "source": [
    "df.head()"
   ],
   "metadata": {
    "collapsed": false,
    "pycharm": {
     "name": "#%%\n"
    }
   }
  },
  {
   "cell_type": "code",
   "execution_count": 19,
   "outputs": [
    {
     "data": {
      "text/plain": "views       7.098558e+06\nlikes       1.654129e+05\ndislikes    2.248434e+04\ndtype: float64"
     },
     "execution_count": 19,
     "metadata": {},
     "output_type": "execute_result"
    }
   ],
   "source": [
    "np.std(df[['views','likes','dislikes']],\n",
    "       axis=0)"
   ],
   "metadata": {
    "collapsed": false,
    "pycharm": {
     "name": "#%%\n"
    }
   }
  },
  {
   "cell_type": "code",
   "execution_count": 20,
   "outputs": [
    {
     "data": {
      "text/plain": "                           count          mean           std    min      25%  \\\ncategory_id             375942.0  2.023230e+01  7.132413e+00    1.0     17.0   \nviews                   375942.0  1.326568e+06  7.098568e+06  117.0  46978.0   \nlikes                   375942.0  3.788431e+04  1.654131e+05    0.0    669.0   \ndislikes                375942.0  2.126107e+03  2.248437e+04    0.0     41.0   \ncomment_count           375942.0  4.253775e+03  2.545876e+04    0.0    109.0   \ncomments_disabled       375942.0  2.251145e-02  1.483400e-01    0.0      0.0   \nratings_disabled        375942.0  1.943917e-02  1.380628e-01    0.0      0.0   \nvideo_error_or_removed  375942.0  6.729762e-04  2.593309e-02    0.0      0.0   \n\n                             50%        75%          max  \ncategory_id                 23.0      24.00         44.0  \nviews                   177370.5  647679.25  424538912.0  \nlikes                     3446.0   17476.50    5613827.0  \ndislikes                   179.0     749.00    1944971.0  \ncomment_count              511.0    2011.00    1626501.0  \ncomments_disabled            0.0       0.00          1.0  \nratings_disabled             0.0       0.00          1.0  \nvideo_error_or_removed       0.0       0.00          1.0  ",
      "text/html": "<div>\n<style scoped>\n    .dataframe tbody tr th:only-of-type {\n        vertical-align: middle;\n    }\n\n    .dataframe tbody tr th {\n        vertical-align: top;\n    }\n\n    .dataframe thead th {\n        text-align: right;\n    }\n</style>\n<table border=\"1\" class=\"dataframe\">\n  <thead>\n    <tr style=\"text-align: right;\">\n      <th></th>\n      <th>count</th>\n      <th>mean</th>\n      <th>std</th>\n      <th>min</th>\n      <th>25%</th>\n      <th>50%</th>\n      <th>75%</th>\n      <th>max</th>\n    </tr>\n  </thead>\n  <tbody>\n    <tr>\n      <th>category_id</th>\n      <td>375942.0</td>\n      <td>2.023230e+01</td>\n      <td>7.132413e+00</td>\n      <td>1.0</td>\n      <td>17.0</td>\n      <td>23.0</td>\n      <td>24.00</td>\n      <td>44.0</td>\n    </tr>\n    <tr>\n      <th>views</th>\n      <td>375942.0</td>\n      <td>1.326568e+06</td>\n      <td>7.098568e+06</td>\n      <td>117.0</td>\n      <td>46978.0</td>\n      <td>177370.5</td>\n      <td>647679.25</td>\n      <td>424538912.0</td>\n    </tr>\n    <tr>\n      <th>likes</th>\n      <td>375942.0</td>\n      <td>3.788431e+04</td>\n      <td>1.654131e+05</td>\n      <td>0.0</td>\n      <td>669.0</td>\n      <td>3446.0</td>\n      <td>17476.50</td>\n      <td>5613827.0</td>\n    </tr>\n    <tr>\n      <th>dislikes</th>\n      <td>375942.0</td>\n      <td>2.126107e+03</td>\n      <td>2.248437e+04</td>\n      <td>0.0</td>\n      <td>41.0</td>\n      <td>179.0</td>\n      <td>749.00</td>\n      <td>1944971.0</td>\n    </tr>\n    <tr>\n      <th>comment_count</th>\n      <td>375942.0</td>\n      <td>4.253775e+03</td>\n      <td>2.545876e+04</td>\n      <td>0.0</td>\n      <td>109.0</td>\n      <td>511.0</td>\n      <td>2011.00</td>\n      <td>1626501.0</td>\n    </tr>\n    <tr>\n      <th>comments_disabled</th>\n      <td>375942.0</td>\n      <td>2.251145e-02</td>\n      <td>1.483400e-01</td>\n      <td>0.0</td>\n      <td>0.0</td>\n      <td>0.0</td>\n      <td>0.00</td>\n      <td>1.0</td>\n    </tr>\n    <tr>\n      <th>ratings_disabled</th>\n      <td>375942.0</td>\n      <td>1.943917e-02</td>\n      <td>1.380628e-01</td>\n      <td>0.0</td>\n      <td>0.0</td>\n      <td>0.0</td>\n      <td>0.00</td>\n      <td>1.0</td>\n    </tr>\n    <tr>\n      <th>video_error_or_removed</th>\n      <td>375942.0</td>\n      <td>6.729762e-04</td>\n      <td>2.593309e-02</td>\n      <td>0.0</td>\n      <td>0.0</td>\n      <td>0.0</td>\n      <td>0.00</td>\n      <td>1.0</td>\n    </tr>\n  </tbody>\n</table>\n</div>"
     },
     "execution_count": 20,
     "metadata": {},
     "output_type": "execute_result"
    }
   ],
   "source": [
    "df.describe(include='all').T"
   ],
   "metadata": {
    "collapsed": false,
    "pycharm": {
     "name": "#%%\n"
    }
   }
  },
  {
   "cell_type": "code",
   "execution_count": 45,
   "outputs": [
    {
     "data": {
      "text/plain": "                  feature  null_count  null_percent\n0             category_id           0           0.0\n1                   views           0           0.0\n2                   likes           0           0.0\n3                dislikes           0           0.0\n4           comment_count           0           0.0\n5       comments_disabled           0           0.0\n6        ratings_disabled           0           0.0\n7  video_error_or_removed           0           0.0",
      "text/html": "<div>\n<style scoped>\n    .dataframe tbody tr th:only-of-type {\n        vertical-align: middle;\n    }\n\n    .dataframe tbody tr th {\n        vertical-align: top;\n    }\n\n    .dataframe thead th {\n        text-align: right;\n    }\n</style>\n<table border=\"1\" class=\"dataframe\">\n  <thead>\n    <tr style=\"text-align: right;\">\n      <th></th>\n      <th>feature</th>\n      <th>null_count</th>\n      <th>null_percent</th>\n    </tr>\n  </thead>\n  <tbody>\n    <tr>\n      <th>0</th>\n      <td>category_id</td>\n      <td>0</td>\n      <td>0.0</td>\n    </tr>\n    <tr>\n      <th>1</th>\n      <td>views</td>\n      <td>0</td>\n      <td>0.0</td>\n    </tr>\n    <tr>\n      <th>2</th>\n      <td>likes</td>\n      <td>0</td>\n      <td>0.0</td>\n    </tr>\n    <tr>\n      <th>3</th>\n      <td>dislikes</td>\n      <td>0</td>\n      <td>0.0</td>\n    </tr>\n    <tr>\n      <th>4</th>\n      <td>comment_count</td>\n      <td>0</td>\n      <td>0.0</td>\n    </tr>\n    <tr>\n      <th>5</th>\n      <td>comments_disabled</td>\n      <td>0</td>\n      <td>0.0</td>\n    </tr>\n    <tr>\n      <th>6</th>\n      <td>ratings_disabled</td>\n      <td>0</td>\n      <td>0.0</td>\n    </tr>\n    <tr>\n      <th>7</th>\n      <td>video_error_or_removed</td>\n      <td>0</td>\n      <td>0.0</td>\n    </tr>\n  </tbody>\n</table>\n</div>"
     },
     "execution_count": 45,
     "metadata": {},
     "output_type": "execute_result"
    }
   ],
   "source": [
    "masked_df = df.isnull()\n",
    "nulls = pd.DataFrame(masked_df.sum(),columns=['null_count']).reset_index()\n",
    "nulls.rename(columns={'index':'feature'},\n",
    "                      inplace=True)\n",
    "percentage = pd.DataFrame(masked_df.mean()*100,columns=['null_percent']).reset_index()\n",
    "percentage.rename(columns={'index':'feature'},\n",
    "                      inplace=True)\n",
    "missing_info = pd.merge(nulls,\n",
    "                        percentage,\n",
    "                        on='feature',\n",
    "                        how='inner')\n",
    "missing_info"
   ],
   "metadata": {
    "collapsed": false,
    "pycharm": {
     "name": "#%%\n"
    }
   }
  },
  {
   "cell_type": "code",
   "execution_count": 51,
   "outputs": [
    {
     "data": {
      "text/plain": "<Figure size 1800x720 with 2 Axes>",
      "image/png": "[encoded data removed]"
     },
     "metadata": {
      "needs_background": "light"
     },
     "output_type": "display_data"
    }
   ],
   "source": [
    "# nullity matrix\n",
    "missingno.matrix(df.sample(1000))\n",
    "plt.show()"
   ],
   "metadata": {
    "collapsed": false,
    "pycharm": {
     "name": "#%%\n"
    }
   }
  },
  {
   "cell_type": "code",
   "execution_count": 52,
   "outputs": [
    {
     "name": "stderr",
     "output_type": "stream",
     "text": [
      "c:\\users\\ashen\\appdata\\local\\programs\\python\\python37\\lib\\site-packages\\seaborn\\matrix.py:311: UserWarning: Attempting to set identical bottom == top == 0 results in singular transformations; automatically expanding.\n",
      "  ax.set(xlim=(0, self.data.shape[1]), ylim=(0, self.data.shape[0]))\n",
      "c:\\users\\ashen\\appdata\\local\\programs\\python\\python37\\lib\\site-packages\\seaborn\\matrix.py:311: UserWarning: Attempting to set identical left == right == 0 results in singular transformations; automatically expanding.\n",
      "  ax.set(xlim=(0, self.data.shape[1]), ylim=(0, self.data.shape[0]))\n"
     ]
    },
    {
     "data": {
      "text/plain": "<Figure size 576x576 with 2 Axes>",
      "image/png": "[encoded data removed]"
     },
     "metadata": {
      "needs_background": "light"
     },
     "output_type": "display_data"
    }
   ],
   "source": [
    "# nullity heatmap\n",
    "missingno.heatmap(df,figsize=[8,8])\n",
    "plt.show()"
   ],
   "metadata": {
    "collapsed": false,
    "pycharm": {
     "name": "#%%\n"
    }
   }
  },
  {
   "cell_type": "code",
   "execution_count": 54,
   "outputs": [
    {
     "data": {
      "text/plain": "       category_id   views  likes  dislikes  comment_count  comments_disabled  \\\n31903           22   43383    779       121            698                  0   \n9670            24  578610  15562       338           2462                  0   \n30405           10  765278  62390       432           3582                  0   \n3951            23    2484    194         9             11                  0   \n20826           22    2693     97         1             11                  0   \n...            ...     ...    ...       ...            ...                ...   \n37519           24  848668   6789       549           1196                  0   \n18433           26  217232   4504       129            106                  0   \n30310           24   48714   1105        19            148                  0   \n30516           24  225522   9942       119           1424                  0   \n28492           24  705976  27077      1388           1551                  0   \n\n       ratings_disabled  video_error_or_removed  \n31903                 0                       0  \n9670                  0                       0  \n30405                 0                       0  \n3951                  0                       0  \n20826                 0                       0  \n...                 ...                     ...  \n37519                 0                       0  \n18433                 0                       0  \n30310                 0                       0  \n30516                 0                       0  \n28492                 0                       0  \n\n[10000 rows x 8 columns]",
      "text/html": "<div>\n<style scoped>\n    .dataframe tbody tr th:only-of-type {\n        vertical-align: middle;\n    }\n\n    .dataframe tbody tr th {\n        vertical-align: top;\n    }\n\n    .dataframe thead th {\n        text-align: right;\n    }\n</style>\n<table border=\"1\" class=\"dataframe\">\n  <thead>\n    <tr style=\"text-align: right;\">\n      <th></th>\n      <th>category_id</th>\n      <th>views</th>\n      <th>likes</th>\n      <th>dislikes</th>\n      <th>comment_count</th>\n      <th>comments_disabled</th>\n      <th>ratings_disabled</th>\n      <th>video_error_or_removed</th>\n    </tr>\n  </thead>\n  <tbody>\n    <tr>\n      <th>31903</th>\n      <td>22</td>\n      <td>43383</td>\n      <td>779</td>\n      <td>121</td>\n      <td>698</td>\n      <td>0</td>\n      <td>0</td>\n      <td>0</td>\n    </tr>\n    <tr>\n      <th>9670</th>\n      <td>24</td>\n      <td>578610</td>\n      <td>15562</td>\n      <td>338</td>\n      <td>2462</td>\n      <td>0</td>\n      <td>0</td>\n      <td>0</td>\n    </tr>\n    <tr>\n      <th>30405</th>\n      <td>10</td>\n      <td>765278</td>\n      <td>62390</td>\n      <td>432</td>\n      <td>3582</td>\n      <td>0</td>\n      <td>0</td>\n      <td>0</td>\n    </tr>\n    <tr>\n      <th>3951</th>\n      <td>23</td>\n      <td>2484</td>\n      <td>194</td>\n      <td>9</td>\n      <td>11</td>\n      <td>0</td>\n      <td>0</td>\n      <td>0</td>\n    </tr>\n    <tr>\n      <th>20826</th>\n      <td>22</td>\n      <td>2693</td>\n      <td>97</td>\n      <td>1</td>\n      <td>11</td>\n      <td>0</td>\n      <td>0</td>\n      <td>0</td>\n    </tr>\n    <tr>\n      <th>...</th>\n      <td>...</td>\n      <td>...</td>\n      <td>...</td>\n      <td>...</td>\n      <td>...</td>\n      <td>...</td>\n      <td>...</td>\n      <td>...</td>\n    </tr>\n    <tr>\n      <th>37519</th>\n      <td>24</td>\n      <td>848668</td>\n      <td>6789</td>\n      <td>549</td>\n      <td>1196</td>\n      <td>0</td>\n      <td>0</td>\n      <td>0</td>\n    </tr>\n    <tr>\n      <th>18433</th>\n      <td>26</td>\n      <td>217232</td>\n      <td>4504</td>\n      <td>129</td>\n      <td>106</td>\n      <td>0</td>\n      <td>0</td>\n      <td>0</td>\n    </tr>\n    <tr>\n      <th>30310</th>\n      <td>24</td>\n      <td>48714</td>\n      <td>1105</td>\n      <td>19</td>\n      <td>148</td>\n      <td>0</td>\n      <td>0</td>\n      <td>0</td>\n    </tr>\n    <tr>\n      <th>30516</th>\n      <td>24</td>\n      <td>225522</td>\n      <td>9942</td>\n      <td>119</td>\n      <td>1424</td>\n      <td>0</td>\n      <td>0</td>\n      <td>0</td>\n    </tr>\n    <tr>\n      <th>28492</th>\n      <td>24</td>\n      <td>705976</td>\n      <td>27077</td>\n      <td>1388</td>\n      <td>1551</td>\n      <td>0</td>\n      <td>0</td>\n      <td>0</td>\n    </tr>\n  </tbody>\n</table>\n<p>10000 rows × 8 columns</p>\n</div>"
     },
     "execution_count": 54,
     "metadata": {},
     "output_type": "execute_result"
    }
   ],
   "source": [
    "# filling null values using pandas\n",
    "df_sample = df.sample(10000)\n",
    "df_sample.fillna(0,\n",
    "                 inplace=True)\n",
    "df_sample"
   ],
   "metadata": {
    "collapsed": false,
    "pycharm": {
     "name": "#%%\n"
    }
   }
  },
  {
   "cell_type": "code",
   "execution_count": 56,
   "outputs": [
    {
     "data": {
      "text/plain": "          views    likes  dislikes  comment_count\n31903   43383.0    779.0     121.0          698.0\n9670   578610.0  15562.0     338.0         2462.0\n30405  765278.0  62390.0     432.0         3582.0\n3951     2484.0    194.0       9.0           11.0\n20826    2693.0     97.0       1.0           11.0\n...         ...      ...       ...            ...\n37519  848668.0   6789.0     549.0         1196.0\n18433  217232.0   4504.0     129.0          106.0\n30310   48714.0   1105.0      19.0          148.0\n30516  225522.0   9942.0     119.0         1424.0\n28492  705976.0  27077.0    1388.0         1551.0\n\n[10000 rows x 4 columns]",
      "text/html": "<div>\n<style scoped>\n    .dataframe tbody tr th:only-of-type {\n        vertical-align: middle;\n    }\n\n    .dataframe tbody tr th {\n        vertical-align: top;\n    }\n\n    .dataframe thead th {\n        text-align: right;\n    }\n</style>\n<table border=\"1\" class=\"dataframe\">\n  <thead>\n    <tr style=\"text-align: right;\">\n      <th></th>\n      <th>views</th>\n      <th>likes</th>\n      <th>dislikes</th>\n      <th>comment_count</th>\n    </tr>\n  </thead>\n  <tbody>\n    <tr>\n      <th>31903</th>\n      <td>43383.0</td>\n      <td>779.0</td>\n      <td>121.0</td>\n      <td>698.0</td>\n    </tr>\n    <tr>\n      <th>9670</th>\n      <td>578610.0</td>\n      <td>15562.0</td>\n      <td>338.0</td>\n      <td>2462.0</td>\n    </tr>\n    <tr>\n      <th>30405</th>\n      <td>765278.0</td>\n      <td>62390.0</td>\n      <td>432.0</td>\n      <td>3582.0</td>\n    </tr>\n    <tr>\n      <th>3951</th>\n      <td>2484.0</td>\n      <td>194.0</td>\n      <td>9.0</td>\n      <td>11.0</td>\n    </tr>\n    <tr>\n      <th>20826</th>\n      <td>2693.0</td>\n      <td>97.0</td>\n      <td>1.0</td>\n      <td>11.0</td>\n    </tr>\n    <tr>\n      <th>...</th>\n      <td>...</td>\n      <td>...</td>\n      <td>...</td>\n      <td>...</td>\n    </tr>\n    <tr>\n      <th>37519</th>\n      <td>848668.0</td>\n      <td>6789.0</td>\n      <td>549.0</td>\n      <td>1196.0</td>\n    </tr>\n    <tr>\n      <th>18433</th>\n      <td>217232.0</td>\n      <td>4504.0</td>\n      <td>129.0</td>\n      <td>106.0</td>\n    </tr>\n    <tr>\n      <th>30310</th>\n      <td>48714.0</td>\n      <td>1105.0</td>\n      <td>19.0</td>\n      <td>148.0</td>\n    </tr>\n    <tr>\n      <th>30516</th>\n      <td>225522.0</td>\n      <td>9942.0</td>\n      <td>119.0</td>\n      <td>1424.0</td>\n    </tr>\n    <tr>\n      <th>28492</th>\n      <td>705976.0</td>\n      <td>27077.0</td>\n      <td>1388.0</td>\n      <td>1551.0</td>\n    </tr>\n  </tbody>\n</table>\n<p>10000 rows × 4 columns</p>\n</div>"
     },
     "execution_count": 56,
     "metadata": {},
     "output_type": "execute_result"
    }
   ],
   "source": [
    "# filling values scikit-learn\n",
    "num_cols = ['views','likes','dislikes','comment_count']\n",
    "imp = SimpleImputer(missing_values=np.nan,\n",
    "                    strategy='mean')\n",
    "df_sample[num_cols] = imp.fit_transform(df_sample[num_cols])\n",
    "df_sample[num_cols]"
   ],
   "metadata": {
    "collapsed": false,
    "pycharm": {
     "name": "#%%\n"
    }
   }
  },
  {
   "cell_type": "code",
   "execution_count": 60,
   "outputs": [
    {
     "name": "stdout",
     "output_type": "stream",
     "text": [
      "<class 'pandas.core.frame.DataFrame'>\n",
      "Int64Index: 10000 entries, 31903 to 28492\n",
      "Data columns (total 4 columns):\n",
      " #   Column         Non-Null Count  Dtype  \n",
      "---  ------         --------------  -----  \n",
      " 0   views          10000 non-null  float64\n",
      " 1   likes          10000 non-null  float64\n",
      " 2   dislikes       10000 non-null  float64\n",
      " 3   comment_count  10000 non-null  float64\n",
      "dtypes: float64(4)\n",
      "memory usage: 390.6 KB\n"
     ]
    }
   ],
   "source": [
    "df_sample[num_cols].info()"
   ],
   "metadata": {
    "collapsed": false,
    "pycharm": {
     "name": "#%%\n"
    }
   }
  },
  {
   "cell_type": "code",
   "execution_count": 70,
   "outputs": [
    {
     "data": {
      "text/plain": "       dislikes\n31903     121.0\n9670      338.0\n30405     432.0\n3951        9.0\n20826       1.0\n...         ...\n37519     549.0\n18433     129.0\n30310      19.0\n30516     119.0\n28492    1388.0\n\n[10000 rows x 1 columns]",
      "text/html": "<div>\n<style scoped>\n    .dataframe tbody tr th:only-of-type {\n        vertical-align: middle;\n    }\n\n    .dataframe tbody tr th {\n        vertical-align: top;\n    }\n\n    .dataframe thead th {\n        text-align: right;\n    }\n</style>\n<table border=\"1\" class=\"dataframe\">\n  <thead>\n    <tr style=\"text-align: right;\">\n      <th></th>\n      <th>dislikes</th>\n    </tr>\n  </thead>\n  <tbody>\n    <tr>\n      <th>31903</th>\n      <td>121.0</td>\n    </tr>\n    <tr>\n      <th>9670</th>\n      <td>338.0</td>\n    </tr>\n    <tr>\n      <th>30405</th>\n      <td>432.0</td>\n    </tr>\n    <tr>\n      <th>3951</th>\n      <td>9.0</td>\n    </tr>\n    <tr>\n      <th>20826</th>\n      <td>1.0</td>\n    </tr>\n    <tr>\n      <th>...</th>\n      <td>...</td>\n    </tr>\n    <tr>\n      <th>37519</th>\n      <td>549.0</td>\n    </tr>\n    <tr>\n      <th>18433</th>\n      <td>129.0</td>\n    </tr>\n    <tr>\n      <th>30310</th>\n      <td>19.0</td>\n    </tr>\n    <tr>\n      <th>30516</th>\n      <td>119.0</td>\n    </tr>\n    <tr>\n      <th>28492</th>\n      <td>1388.0</td>\n    </tr>\n  </tbody>\n</table>\n<p>10000 rows × 1 columns</p>\n</div>"
     },
     "execution_count": 70,
     "metadata": {},
     "output_type": "execute_result"
    }
   ],
   "source": [
    "# fill values using inferred values\n",
    "cat_mean = df.groupby(['category_id'])[num_cols].mean()\n",
    "dict_cat_mean = cat_mean.comment_count.to_dict()\n",
    "imputed_values = df_sample.dislikes.map(dict_cat_mean)\n",
    "df_sample['dislikes'] = np.where(df_sample.dislikes.isnull(),\n",
    "                                 imputed_values,\n",
    "                                 df_sample.dislikes)\n",
    "df_sample[['dislikes']]"
   ],
   "metadata": {
    "collapsed": false,
    "pycharm": {
     "name": "#%%\n"
    }
   }
  },
  {
   "cell_type": "code",
   "execution_count": null,
   "outputs": [],
   "source": [],
   "metadata": {
    "collapsed": false,
    "pycharm": {
     "name": "#%%\n"
    }
   }
  }
 ],
 "metadata": {
  "kernelspec": {
   "display_name": "Python 3",
   "language": "python",
   "name": "python3"
  },
  "language_info": {
   "codemirror_mode": {
    "name": "ipython",
    "version": 2
   },
   "file_extension": ".py",
   "mimetype": "text/x-python",
   "name": "python",
   "nbconvert_exporter": "python",
   "pygments_lexer": "ipython2",
   "version": "2.7.6"
  }
 },
 "nbformat": 4,
 "nbformat_minor": 0
}